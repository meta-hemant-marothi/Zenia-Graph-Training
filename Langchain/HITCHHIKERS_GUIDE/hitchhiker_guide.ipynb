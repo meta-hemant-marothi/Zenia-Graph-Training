{
 "cells": [
  {
   "cell_type": "code",
   "execution_count": 7,
   "id": "707db447",
   "metadata": {},
   "outputs": [],
   "source": [
    "# !pip install groq"
   ]
  },
  {
   "cell_type": "code",
   "execution_count": 8,
   "id": "47846986",
   "metadata": {},
   "outputs": [],
   "source": [
    "# !pip install langchain langchain-community langchain-groq"
   ]
  },
  {
   "cell_type": "code",
   "execution_count": 9,
   "id": "84bd1981",
   "metadata": {},
   "outputs": [],
   "source": [
    "# !pip install faiss-cpu"
   ]
  },
  {
   "cell_type": "code",
   "execution_count": 10,
   "id": "946321a3",
   "metadata": {},
   "outputs": [],
   "source": [
    "from groq import Groq\n",
    "import os\n",
    "from dotenv import load_dotenv\n",
    "load_dotenv()\n",
    "\n",
    "client = Groq(api_key=os.getenv(\"GROQ_API_KEY\"))"
   ]
  },
  {
   "cell_type": "code",
   "execution_count": 11,
   "id": "90b54dbd",
   "metadata": {},
   "outputs": [],
   "source": [
    "from langchain.document_loaders import TextLoader\n",
    "from langchain.embeddings import HuggingFaceEmbeddings\n",
    "from langchain.vectorstores import FAISS\n",
    "\n",
    "# loading documents to be used for RAG \n",
    "text_folder = \"rag_files\"  \n",
    "\n",
    "all_documents = []\n",
    "for filename in os.listdir(text_folder):\n",
    "    if filename.lower().endswith(\".txt\"):\n",
    "        file_path = os.path.join(text_folder, filename)\n",
    "        loader = TextLoader(file_path)\n",
    "        all_documents.extend(loader.load())\n",
    "\n",
    "# generate embeddings\n",
    "embeddings = HuggingFaceEmbeddings(model_name = \"sentence-transformers/all-MiniLM-L6-v2\")\n",
    "\n",
    "# create vector database w FAISS \n",
    "vector_store = FAISS.from_documents(all_documents, embeddings)\n",
    "retriever = vector_store.as_retriever()\n"
   ]
  },
  {
   "cell_type": "code",
   "execution_count": null,
   "id": "56e46ed9",
   "metadata": {},
   "outputs": [],
   "source": [
    "def main():\n",
    "    print(\"Welcome to the RAG Assistant. Type 'exit' to quit.\\n\")\n",
    "    \n",
    "    while True:\n",
    "        user_input = input(\"You: \").strip()\n",
    "        if user_input.lower() == \"exit\":\n",
    "            print(\"Exiting…\")\n",
    "            break\n",
    "\n",
    "        # get relevant documents\n",
    "        relevant_docs = retriever.get_relevant_documents(user_input)\n",
    "        retrieved_context = \"\\n\\n\".join([doc.page_content for doc in relevant_docs])\n",
    "\n",
    "        # system prompt\n",
    "        system_prompt = (\n",
    "            \"You are a helpful assistant. \"\n",
    "            \"Use ONLY the following knowledge base context to answer the user. \"\n",
    "            \"If the answer is not in the context, say you don't know.\\n\\n\"\n",
    "            f\"Context:\\n{retrieved_context}\"\n",
    "        )\n",
    "\n",
    "        # messages for LLM \n",
    "        messages = [\n",
    "            {\"role\": \"system\", \"content\": system_prompt},\n",
    "            {\"role\": \"user\", \"content\": user_input}\n",
    "        ]\n",
    "\n",
    "        # generate response\n",
    "        response = client.chat.completions.create(messages = messages, model=\"llama-3.3-70b-versatile\")\n",
    "        assistant_message = response.choices[0].message.content\n",
    "        print(f\"\\nAssistant: {assistant_message}\\n\")\n"
   ]
  },
  {
   "cell_type": "code",
   "execution_count": 15,
   "id": "8bf97468",
   "metadata": {},
   "outputs": [
    {
     "name": "stdout",
     "output_type": "stream",
     "text": [
      "Welcome to the RAG Assistant. Type 'exit' to quit.\n",
      "\n",
      "\n",
      "Assistant: Hello. How can I assist you with the Code of Conduct at TechNova Solutions?\n",
      "\n",
      "\n",
      "Assistant: The Code of Conduct for TechNova Solutions consists of the following sections:\n",
      "\n",
      "1. **Professionalism**: \n",
      "   - All employees must maintain respectful and professional behavior.\n",
      "   - Harassment or discrimination will not be tolerated.\n",
      "\n",
      "2. **Confidentiality**: \n",
      "   - Employees must not disclose client or internal data to unauthorized parties.\n",
      "\n",
      "3. **Use of Company Assets**: \n",
      "   - Laptops and software licenses must be used only for work purposes.\n",
      "\n",
      "4. **Social Media**: \n",
      "   - Employees should avoid discussing confidential or controversial company topics online.\n",
      "\n",
      "5. **Disciplinary Action**: \n",
      "   - Violation of the code can lead to warnings, suspension, or termination based on severity.\n",
      "\n",
      "Exiting…\n"
     ]
    }
   ],
   "source": [
    "main()"
   ]
  },
  {
   "cell_type": "code",
   "execution_count": null,
   "id": "52a06c28",
   "metadata": {},
   "outputs": [],
   "source": []
  }
 ],
 "metadata": {
  "kernelspec": {
   "display_name": "langchain-env",
   "language": "python",
   "name": "python3"
  },
  "language_info": {
   "codemirror_mode": {
    "name": "ipython",
    "version": 3
   },
   "file_extension": ".py",
   "mimetype": "text/x-python",
   "name": "python",
   "nbconvert_exporter": "python",
   "pygments_lexer": "ipython3",
   "version": "3.13.5"
  }
 },
 "nbformat": 4,
 "nbformat_minor": 5
}
