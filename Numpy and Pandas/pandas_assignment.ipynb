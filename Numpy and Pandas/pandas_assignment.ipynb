{
 "cells": [
  {
   "cell_type": "markdown",
   "id": "5380e168",
   "metadata": {},
   "source": [
    "Create a DataFrame:\n",
    "Create a pandas DataFrame with the following data:\n",
    "diff\n",
    "Name    | Age | Salary\n",
    "--------|-----|-------\n",
    "Alice   | 25  | 50000\n",
    "Bob     | 30  | 60000\n",
    "Charlie | 35  | 70000\n",
    "David   | 40  | 80000\n",
    "Eve     | 45  | 90000\n"
   ]
  },
  {
   "cell_type": "code",
   "execution_count": 47,
   "id": "5ab2f4ed",
   "metadata": {},
   "outputs": [
    {
     "name": "stdout",
     "output_type": "stream",
     "text": [
      "      Name  Age  Salary\n",
      "0    Alice   25   50000\n",
      "1      Bob   30   60000\n",
      "2  Charlie   35   70000\n",
      "3    David   40   80000\n",
      "4      Eve   45   90000\n"
     ]
    }
   ],
   "source": [
    "import pandas as pd\n",
    "\n",
    "data = {\n",
    "    \"Name\": [\"Alice\", \"Bob\", \"Charlie\", \"David\", \"Eve\"],\n",
    "    \"Age\": [25, 30, 35, 40, 45],\n",
    "    \"Salary\": [50000, 60000, 70000, 80000, 90000]\n",
    "}\n",
    "\n",
    "data_frame = pd.DataFrame(data)\n",
    "print(data_frame)"
   ]
  },
  {
   "cell_type": "markdown",
   "id": "531a59c7",
   "metadata": {},
   "source": [
    "Display the first 3 rows of the DataFrame."
   ]
  },
  {
   "cell_type": "code",
   "execution_count": 48,
   "id": "f5d86843",
   "metadata": {},
   "outputs": [
    {
     "name": "stdout",
     "output_type": "stream",
     "text": [
      "      Name  Age  Salary\n",
      "0    Alice   25   50000\n",
      "1      Bob   30   60000\n",
      "2  Charlie   35   70000\n"
     ]
    }
   ],
   "source": [
    "print(data_frame.head(3))"
   ]
  },
  {
   "cell_type": "markdown",
   "id": "89450997",
   "metadata": {},
   "source": [
    "Add a new column Department with the values: HR, IT, IT, Finance, HR."
   ]
  },
  {
   "cell_type": "code",
   "execution_count": 49,
   "id": "a3b28036",
   "metadata": {},
   "outputs": [
    {
     "name": "stdout",
     "output_type": "stream",
     "text": [
      "      Name  Age  Salary Department\n",
      "0    Alice   25   50000         HR\n",
      "1      Bob   30   60000         IT\n",
      "2  Charlie   35   70000         IT\n",
      "3    David   40   80000    Finance\n",
      "4      Eve   45   90000         HR\n"
     ]
    }
   ],
   "source": [
    "department = [\"HR\", \"IT\", \"IT\", \"Finance\", \"HR\"]\n",
    "\n",
    "data_frame[\"Department\"] = department\n",
    "\n",
    "print(data_frame)"
   ]
  },
  {
   "cell_type": "markdown",
   "id": "51967e1f",
   "metadata": {},
   "source": [
    "Filtering:\n",
    "Filter the DataFrame to show only rows where Salary is greater than 60000."
   ]
  },
  {
   "cell_type": "code",
   "execution_count": 50,
   "id": "980c20d9",
   "metadata": {},
   "outputs": [
    {
     "name": "stdout",
     "output_type": "stream",
     "text": [
      "      Name  Age  Salary Department\n",
      "2  Charlie   35   70000         IT\n",
      "3    David   40   80000    Finance\n",
      "4      Eve   45   90000         HR\n"
     ]
    }
   ],
   "source": [
    "print(data_frame.loc[data_frame[\"Salary\"] > 60000])"
   ]
  },
  {
   "cell_type": "markdown",
   "id": "eb6e2e0c",
   "metadata": {},
   "source": [
    "Filter the DataFrame to show only rows where Department is IT."
   ]
  },
  {
   "cell_type": "code",
   "execution_count": 51,
   "id": "4af2717a",
   "metadata": {},
   "outputs": [
    {
     "name": "stdout",
     "output_type": "stream",
     "text": [
      "      Name  Age  Salary Department\n",
      "1      Bob   30   60000         IT\n",
      "2  Charlie   35   70000         IT\n"
     ]
    }
   ],
   "source": [
    "print(data_frame.loc[data_frame[\"Department\"] == \"IT\"])"
   ]
  },
  {
   "cell_type": "markdown",
   "id": "a4f16bd0",
   "metadata": {},
   "source": [
    "Statistical Analysis:\n",
    "Find the average salary of employees."
   ]
  },
  {
   "cell_type": "code",
   "execution_count": 52,
   "id": "632b082a",
   "metadata": {},
   "outputs": [
    {
     "name": "stdout",
     "output_type": "stream",
     "text": [
      "70000.0\n"
     ]
    }
   ],
   "source": [
    "print(data_frame[\"Salary\"].mean())"
   ]
  },
  {
   "cell_type": "markdown",
   "id": "71554d3f",
   "metadata": {},
   "source": [
    "Find the maximum age of employees.\n"
   ]
  },
  {
   "cell_type": "code",
   "execution_count": 53,
   "id": "f46c0113",
   "metadata": {},
   "outputs": [
    {
     "name": "stdout",
     "output_type": "stream",
     "text": [
      "45\n"
     ]
    }
   ],
   "source": [
    "print(data_frame[\"Age\"].max())"
   ]
  },
  {
   "cell_type": "markdown",
   "id": "a4727018",
   "metadata": {},
   "source": [
    "Data Manipulation:\n",
    "Sort the DataFrame by Salary in descending order."
   ]
  },
  {
   "cell_type": "code",
   "execution_count": 54,
   "id": "251fbc01",
   "metadata": {},
   "outputs": [
    {
     "name": "stdout",
     "output_type": "stream",
     "text": [
      "      Name  Age  Salary Department\n",
      "4      Eve   45   90000         HR\n",
      "3    David   40   80000    Finance\n",
      "2  Charlie   35   70000         IT\n",
      "1      Bob   30   60000         IT\n",
      "0    Alice   25   50000         HR\n"
     ]
    }
   ],
   "source": [
    "print(data_frame.sort_values(by= \"Salary\", ascending= False))"
   ]
  },
  {
   "cell_type": "markdown",
   "id": "9489556f",
   "metadata": {},
   "source": [
    "Update the Salary of Alice to 55000."
   ]
  },
  {
   "cell_type": "code",
   "execution_count": 55,
   "id": "687de079",
   "metadata": {},
   "outputs": [
    {
     "name": "stdout",
     "output_type": "stream",
     "text": [
      "    Name  Age  Salary Department\n",
      "0  Alice   25   55000         HR\n"
     ]
    }
   ],
   "source": [
    "data_frame.loc[data_frame[\"Name\"] == \"Alice\", \"Salary\"] = 55000\n",
    "print(data_frame[data_frame[\"Name\"] == \"Alice\"])"
   ]
  },
  {
   "cell_type": "markdown",
   "id": "3ee9726d",
   "metadata": {},
   "source": [
    "# Assignment"
   ]
  },
  {
   "cell_type": "code",
   "execution_count": 56,
   "id": "0fdd2363",
   "metadata": {},
   "outputs": [],
   "source": [
    "import pandas as pd\n",
    "import numpy as np\n",
    "data = {\n",
    " 'id': [1, 2, 3, 4, 5, 6],\n",
    " 'is_active': [True, 'false', 1, 0, 'Yes', 'No'],\n",
    " 'has_premium': ['Y', 'N', True, False, 1, 0]\n",
    "}\n",
    "df = pd.DataFrame(data)"
   ]
  },
  {
   "cell_type": "markdown",
   "id": "9c61be06",
   "metadata": {},
   "source": [
    "1. Examine the data: Print the DataFrame and check data types"
   ]
  },
  {
   "cell_type": "code",
   "execution_count": 57,
   "id": "ee3784ab",
   "metadata": {},
   "outputs": [
    {
     "name": "stdout",
     "output_type": "stream",
     "text": [
      "   id is_active has_premium\n",
      "0   1      True           Y\n",
      "1   2     false           N\n",
      "2   3         1        True\n",
      "3   4         0       False\n",
      "4   5       Yes           1\n",
      "5   6        No           0\n",
      "id              int64\n",
      "is_active      object\n",
      "has_premium    object\n",
      "dtype: object\n"
     ]
    }
   ],
   "source": [
    "print(df)\n",
    "print(df.dtypes)"
   ]
  },
  {
   "cell_type": "markdown",
   "id": "de5ebe64",
   "metadata": {},
   "source": [
    "2. Convert boolean columns: Transform is_active and has_premium to proper boolean\n",
    "values (True/False)"
   ]
  },
  {
   "cell_type": "code",
   "execution_count": 60,
   "id": "36ac18fa",
   "metadata": {},
   "outputs": [],
   "source": [
    "true_values = [True, \"True\", \"true\", 1, \"Yes\", \"yes\", \"Y\"]\n",
    "false_values = [False, \"False\", \"false\", 0, \"No\", \"no\", \"N\"]\n",
    "\n",
    "df[\"is_active\"] = df[\"is_active\"].apply(lambda x : True if x in true_values else False if x in false_values else np.nan)\n",
    "df[\"has_premium\"] = df[\"has_premium\"].apply(lambda x : True if x in true_values else False if x in false_values else np.nan)"
   ]
  },
  {
   "cell_type": "markdown",
   "id": "2532f6b3",
   "metadata": {},
   "source": [
    "3. Verify results: Show the cleaned data and confirm all values are boolean "
   ]
  },
  {
   "cell_type": "code",
   "execution_count": 61,
   "id": "cc1d0d4c",
   "metadata": {},
   "outputs": [
    {
     "data": {
      "text/html": [
       "<div>\n",
       "<style scoped>\n",
       "    .dataframe tbody tr th:only-of-type {\n",
       "        vertical-align: middle;\n",
       "    }\n",
       "\n",
       "    .dataframe tbody tr th {\n",
       "        vertical-align: top;\n",
       "    }\n",
       "\n",
       "    .dataframe thead th {\n",
       "        text-align: right;\n",
       "    }\n",
       "</style>\n",
       "<table border=\"1\" class=\"dataframe\">\n",
       "  <thead>\n",
       "    <tr style=\"text-align: right;\">\n",
       "      <th></th>\n",
       "      <th>id</th>\n",
       "      <th>is_active</th>\n",
       "      <th>has_premium</th>\n",
       "    </tr>\n",
       "  </thead>\n",
       "  <tbody>\n",
       "    <tr>\n",
       "      <th>0</th>\n",
       "      <td>1</td>\n",
       "      <td>True</td>\n",
       "      <td>True</td>\n",
       "    </tr>\n",
       "    <tr>\n",
       "      <th>1</th>\n",
       "      <td>2</td>\n",
       "      <td>False</td>\n",
       "      <td>False</td>\n",
       "    </tr>\n",
       "    <tr>\n",
       "      <th>2</th>\n",
       "      <td>3</td>\n",
       "      <td>True</td>\n",
       "      <td>True</td>\n",
       "    </tr>\n",
       "    <tr>\n",
       "      <th>3</th>\n",
       "      <td>4</td>\n",
       "      <td>False</td>\n",
       "      <td>False</td>\n",
       "    </tr>\n",
       "    <tr>\n",
       "      <th>4</th>\n",
       "      <td>5</td>\n",
       "      <td>True</td>\n",
       "      <td>True</td>\n",
       "    </tr>\n",
       "    <tr>\n",
       "      <th>5</th>\n",
       "      <td>6</td>\n",
       "      <td>False</td>\n",
       "      <td>False</td>\n",
       "    </tr>\n",
       "  </tbody>\n",
       "</table>\n",
       "</div>"
      ],
      "text/plain": [
       "   id  is_active  has_premium\n",
       "0   1       True         True\n",
       "1   2      False        False\n",
       "2   3       True         True\n",
       "3   4      False        False\n",
       "4   5       True         True\n",
       "5   6      False        False"
      ]
     },
     "execution_count": 61,
     "metadata": {},
     "output_type": "execute_result"
    }
   ],
   "source": [
    "df"
   ]
  }
 ],
 "metadata": {
  "kernelspec": {
   "display_name": "Python 3",
   "language": "python",
   "name": "python3"
  },
  "language_info": {
   "codemirror_mode": {
    "name": "ipython",
    "version": 3
   },
   "file_extension": ".py",
   "mimetype": "text/x-python",
   "name": "python",
   "nbconvert_exporter": "python",
   "pygments_lexer": "ipython3",
   "version": "3.13.5"
  }
 },
 "nbformat": 4,
 "nbformat_minor": 5
}
