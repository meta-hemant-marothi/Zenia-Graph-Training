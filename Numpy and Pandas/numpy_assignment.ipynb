{
 "cells": [
  {
   "cell_type": "markdown",
   "id": "478ad238",
   "metadata": {},
   "source": [
    "1. Create an Array:\n",
    "Create a 1D NumPy array containing the numbers from 1 to 20."
   ]
  },
  {
   "cell_type": "code",
   "execution_count": 10,
   "id": "e9d0a1c6",
   "metadata": {},
   "outputs": [
    {
     "name": "stdout",
     "output_type": "stream",
     "text": [
      "[ 1  2  3  4  5  6  7  8  9 10 11 12 13 14 15 16 17 18 19 20]\n"
     ]
    }
   ],
   "source": [
    "import numpy as np\n",
    "\n",
    "np_array = np.arange(1, 21)\n",
    "print(np_array)"
   ]
  },
  {
   "cell_type": "markdown",
   "id": "b26d462e",
   "metadata": {},
   "source": [
    "2. Reshape the Array:\n",
    "Reshape the array into a 4x5 2D array."
   ]
  },
  {
   "cell_type": "code",
   "execution_count": 11,
   "id": "3385fdd8",
   "metadata": {},
   "outputs": [
    {
     "name": "stdout",
     "output_type": "stream",
     "text": [
      "[[ 1  2  3  4  5]\n",
      " [ 6  7  8  9 10]\n",
      " [11 12 13 14 15]\n",
      " [16 17 18 19 20]]\n"
     ]
    }
   ],
   "source": [
    "np_array = np_array.reshape((4, 5))\n",
    "print(np_array)"
   ]
  },
  {
   "cell_type": "markdown",
   "id": "48514223",
   "metadata": {},
   "source": [
    "3. Array Indexing and Slicing:\n",
    "\n",
    "Extract the second row from the 2D array.\n"
   ]
  },
  {
   "cell_type": "code",
   "execution_count": 12,
   "id": "54b71bde",
   "metadata": {},
   "outputs": [
    {
     "name": "stdout",
     "output_type": "stream",
     "text": [
      "[ 6  7  8  9 10]\n"
     ]
    }
   ],
   "source": [
    "print(np_array[1])"
   ]
  },
  {
   "cell_type": "markdown",
   "id": "19597fa5",
   "metadata": {},
   "source": [
    "Extract the first two elements of the last row."
   ]
  },
  {
   "cell_type": "code",
   "execution_count": 22,
   "id": "245a0211",
   "metadata": {},
   "outputs": [
    {
     "name": "stdout",
     "output_type": "stream",
     "text": [
      "[16 17]\n"
     ]
    }
   ],
   "source": [
    "print(np_array[3][:2])"
   ]
  },
  {
   "cell_type": "markdown",
   "id": "f384787e",
   "metadata": {},
   "source": [
    "Replace all elements in the first column with the value 99.\n"
   ]
  },
  {
   "cell_type": "code",
   "execution_count": 15,
   "id": "30144f87",
   "metadata": {},
   "outputs": [
    {
     "name": "stdout",
     "output_type": "stream",
     "text": [
      "[[99 99 99 99 99]\n",
      " [ 6  7  8  9 10]\n",
      " [11 12 13 14 15]\n",
      " [16 17 18 19 20]]\n"
     ]
    }
   ],
   "source": [
    "np_array[0] = 99\n",
    "print(np_array)"
   ]
  },
  {
   "cell_type": "markdown",
   "id": "91d20f92",
   "metadata": {},
   "source": [
    "Find the sum, mean, and standard deviation of the array."
   ]
  },
  {
   "cell_type": "code",
   "execution_count": 18,
   "id": "ccf65bad",
   "metadata": {},
   "outputs": [
    {
     "name": "stdout",
     "output_type": "stream",
     "text": [
      "690\n",
      "34.5\n",
      "37.426594822398684\n"
     ]
    }
   ],
   "source": [
    "print(np_array.sum())\n",
    "print(np_array.mean())\n",
    "print(np_array.std())"
   ]
  },
  {
   "cell_type": "markdown",
   "id": "67d015d0",
   "metadata": {},
   "source": [
    "Multiply every element in the array by 2."
   ]
  },
  {
   "cell_type": "code",
   "execution_count": 19,
   "id": "ee63275b",
   "metadata": {},
   "outputs": [
    {
     "name": "stdout",
     "output_type": "stream",
     "text": [
      "[[198 198 198 198 198]\n",
      " [ 12  14  16  18  20]\n",
      " [ 22  24  26  28  30]\n",
      " [ 32  34  36  38  40]]\n"
     ]
    }
   ],
   "source": [
    "print(np_array * 2)"
   ]
  },
  {
   "cell_type": "markdown",
   "id": "4ce3334e",
   "metadata": {},
   "source": [
    "5. Logical Operations:\n",
    "Create a boolean mask where elements greater than 10 are True.\n",
    "Use the mask to extract elements greater than 10."
   ]
  },
  {
   "cell_type": "code",
   "execution_count": 25,
   "id": "0827814f",
   "metadata": {},
   "outputs": [
    {
     "name": "stdout",
     "output_type": "stream",
     "text": [
      "[99 99 99 99 99 11 12 13 14 15 16 17 18 19 20]\n"
     ]
    }
   ],
   "source": [
    "mask = np_array > 10\n",
    "\n",
    "print(np_array[mask])"
   ]
  },
  {
   "cell_type": "code",
   "execution_count": null,
   "id": "bd1e146c",
   "metadata": {},
   "outputs": [],
   "source": []
  }
 ],
 "metadata": {
  "kernelspec": {
   "display_name": "Python 3",
   "language": "python",
   "name": "python3"
  },
  "language_info": {
   "codemirror_mode": {
    "name": "ipython",
    "version": 3
   },
   "file_extension": ".py",
   "mimetype": "text/x-python",
   "name": "python",
   "nbconvert_exporter": "python",
   "pygments_lexer": "ipython3",
   "version": "3.13.5"
  }
 },
 "nbformat": 4,
 "nbformat_minor": 5
}
