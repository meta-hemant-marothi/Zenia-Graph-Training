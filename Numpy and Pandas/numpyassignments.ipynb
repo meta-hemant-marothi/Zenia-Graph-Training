{
 "cells": [
  {
   "cell_type": "markdown",
   "id": "8570f65e",
   "metadata": {},
   "source": [
    "### Assignment 1: Array Creation and Manipulation\n",
    "\n",
    "1. Create a NumPy array of shape (5, 5) filled with random integers between 1 and 20. Replace all the elements in the third column with 1.\n",
    "2. Create a NumPy array of shape (4, 4) with values from 1 to 16. Replace the diagonal elements with 0."
   ]
  },
  {
   "cell_type": "code",
   "execution_count": 71,
   "metadata": {},
   "outputs": [
    {
     "name": "stdout",
     "output_type": "stream",
     "text": [
      "[[20  5  1 13 18]\n",
      " [20  3  1  7  4]\n",
      " [18  6  1  3  7]\n",
      " [ 2  6  1  7 10]\n",
      " [ 3  6  1  3  8]]\n",
      "[[ 0  2  3  4]\n",
      " [ 5  0  7  8]\n",
      " [ 9 10  0 12]\n",
      " [13 14 15  0]]\n"
     ]
    }
   ],
   "source": [
    "# 1\n",
    "import numpy as np\n",
    "\n",
    "arr = np.random.randint(low=1, high=21, size= (5,5))\n",
    "arr[:,2] = 1\n",
    "print(arr)\n",
    "\n",
    "#2\n",
    "arr = np.arange(1, 17).reshape((4,4))\n",
    "np.fill_diagonal(arr, 0)\n",
    "print(arr)"
   ]
  },
  {
   "cell_type": "markdown",
   "id": "b02d1c4e",
   "metadata": {},
   "source": [
    "### Assignment 2: Array Indexing and Slicing\n",
    "\n",
    "1. Create a NumPy array of shape (6, 6) with values from 1 to 36. Extract the sub-array consisting of the 3rd to 5th rows and 2nd to 4th columns.\n",
    "2. Create a NumPy array of shape (5, 5) with random integers. Extract the elements on the border."
   ]
  },
  {
   "cell_type": "code",
   "execution_count": 72,
   "id": "b7166804",
   "metadata": {},
   "outputs": [
    {
     "name": "stdout",
     "output_type": "stream",
     "text": [
      "[[14 15 16]\n",
      " [20 21 22]\n",
      " [26 27 28]]\n",
      "[[44 60 94 40  5]\n",
      " [95 71 71 33 71]\n",
      " [73 63 37 89 50]\n",
      " [18 32 14 79  1]\n",
      " [ 8 84 36 72 34]]\n",
      "[44 60 94 40  5 44 95 73 18  8  8 84 36 72 34  5 71 50  1 34]\n"
     ]
    }
   ],
   "source": [
    "# 1\n",
    "arr = np.arange(1, 37).reshape((6,6))\n",
    "print(arr[2:5,1:4])\n",
    "\n",
    "# 2\n",
    "arr = np.random.randint(low=0, high=100,size=(5,5))\n",
    "print(arr)\n",
    "border_elements= np.concatenate((arr[0,:], arr[:,0], arr[-1,:], arr[:,-1]))\n",
    "print(border_elements)"
   ]
  },
  {
   "cell_type": "markdown",
   "id": "19fc337e",
   "metadata": {},
   "source": [
    "### Assignment 3: Array Operations\n",
    "\n",
    "1. Create two NumPy arrays of shape (3, 4) filled with random integers. Perform element-wise addition, subtraction, multiplication, and division.\n",
    "2. Create a NumPy array of shape (4, 4) with values from 1 to 16. Compute the row-wise and column-wise sum."
   ]
  },
  {
   "cell_type": "code",
   "execution_count": 73,
   "id": "88701ced",
   "metadata": {},
   "outputs": [
    {
     "name": "stdout",
     "output_type": "stream",
     "text": [
      "[[62 67 74 91]\n",
      " [75 25 23 69]\n",
      " [73 33  7 71]]\n",
      "[[37 62 50 40]\n",
      " [81 19 92  3]\n",
      " [44 89 73 73]]\n",
      "[[ 99 129 124 131]\n",
      " [156  44 115  72]\n",
      " [117 122  80 144]]\n",
      "[[ 25   5  24  51]\n",
      " [ -6   6 -69  66]\n",
      " [ 29 -56 -66  -2]]\n",
      "[[2294 4154 3700 3640]\n",
      " [6075  475 2116  207]\n",
      " [3212 2937  511 5183]]\n",
      "[[ 1.67567568  1.08064516  1.48        2.275     ]\n",
      " [ 0.92592593  1.31578947  0.25       23.        ]\n",
      " [ 1.65909091  0.37078652  0.09589041  0.97260274]]\n",
      "[[ 1  2  3  4]\n",
      " [ 5  6  7  8]\n",
      " [ 9 10 11 12]\n",
      " [13 14 15 16]]\n",
      "[10 26 42 58]\n",
      "[28 32 36 40]\n"
     ]
    }
   ],
   "source": [
    "array1 = np.random.randint(low=0, high=100, size=(3,4))\n",
    "array2 = np.random.randint(low=0, high=100, size=(3,4))\n",
    "\n",
    "print(array1)\n",
    "print(array2)\n",
    "\n",
    "print(array1 + array2)\n",
    "print(array1 - array2)\n",
    "print(array1 * array2)\n",
    "print(array1 / array2)\n",
    "\n",
    "\n",
    "array = np.arange(1, 17).reshape((4,4))\n",
    "print(array)\n",
    "print(array.sum(axis=1))\n",
    "print(array.sum(axis=0))\n"
   ]
  },
  {
   "cell_type": "markdown",
   "id": "39a58848",
   "metadata": {},
   "source": [
    "### Assignment 4: Statistical Operations\n",
    "\n",
    "1. Create a NumPy array of shape (5, 5) filled with random integers. Compute the mean, median, standard deviation, and variance of the array.\n",
    "2. Create a NumPy array of shape (3, 3) with values from 1 to 9. Normalize the array (i.e., scale the values to have a mean of 0 and a standard deviation of 1)."
   ]
  },
  {
   "cell_type": "code",
   "execution_count": 74,
   "id": "63aa6f2d",
   "metadata": {},
   "outputs": [
    {
     "name": "stdout",
     "output_type": "stream",
     "text": [
      "[[4 1 9 8 9]\n",
      " [5 3 3 3 5]\n",
      " [8 5 5 4 2]\n",
      " [6 5 6 4 6]\n",
      " [6 3 8 3 8]]\n",
      "Mean: 5.16\n",
      "Standard Deviation: 2.185040045399626\n",
      "Variance: 4.774400000000001\n",
      "Median: 5.0\n"
     ]
    }
   ],
   "source": [
    "array = np.random.randint(1, 10, size=(5,5))\n",
    "print(array)\n",
    "print(f\"Mean: {np.mean(array)}\")\n",
    "print(f\"Standard Deviation: {np.std(array)}\")\n",
    "print(f\"Variance: {np.var(array)}\")\n",
    "print(f\"Median: {np.median(array)}\")"
   ]
  },
  {
   "cell_type": "code",
   "execution_count": 75,
   "id": "9376ec6a",
   "metadata": {},
   "outputs": [
    {
     "name": "stdout",
     "output_type": "stream",
     "text": [
      "[[1 2 3]\n",
      " [4 5 6]\n",
      " [7 8 9]]\n",
      "[[-1.54919334 -1.161895   -0.77459667]\n",
      " [-0.38729833  0.          0.38729833]\n",
      " [ 0.77459667  1.161895    1.54919334]]\n"
     ]
    }
   ],
   "source": [
    "array = np.arange(1, 10).reshape((3,3))\n",
    "print(array)\n",
    "\n",
    "array_mean = np.mean(array)\n",
    "array_std = np.std(array)\n",
    "\n",
    "normalized_array = (array - array_mean) / array_std\n",
    "print(normalized_array)"
   ]
  },
  {
   "cell_type": "markdown",
   "id": "252de140",
   "metadata": {},
   "source": [
    "### Assignment 5: Broadcasting\n",
    "\n",
    "1. Create a NumPy array of shape (3, 3) filled with random integers. Add a 1D array of shape (3,) to each row of the 2D array using broadcasting.\n",
    "2. Create a NumPy array of shape (4, 4) filled with random integers. Subtract a 1D array of shape (4,) from each column of the 2D array using broadcasting."
   ]
  },
  {
   "cell_type": "code",
   "execution_count": 76,
   "id": "83c059cc",
   "metadata": {},
   "outputs": [
    {
     "name": "stdout",
     "output_type": "stream",
     "text": [
      "Original array:\n",
      "[[5 9 1]\n",
      " [5 7 1]\n",
      " [1 6 7]]\n",
      "1D array:\n",
      "[1 4 7]\n",
      "[[ 6 13  8]\n",
      " [ 6 11  8]\n",
      " [ 2 10 14]]\n",
      "Original array:\n",
      "[[2 7 5 9]\n",
      " [3 7 1 8]\n",
      " [4 6 6 3]\n",
      " [2 6 9 1]]\n",
      "1D array:\n",
      "[8 6 4 4]\n",
      "Resulting array:\n",
      "[[-6 -1 -3  1]\n",
      " [-3  1 -5  2]\n",
      " [ 0  2  2 -1]\n",
      " [-2  2  5 -3]]\n"
     ]
    }
   ],
   "source": [
    "array = np.random.randint(1, 11, size=(3, 3))\n",
    "row_array = np.random.randint(1, 11, size=(3,))\n",
    "print(\"Original array:\")\n",
    "print(array)\n",
    "print(\"1D array:\")\n",
    "print(row_array)\n",
    "\n",
    "print(array + row_array)\n",
    "\n",
    "# Create a NumPy array of shape (4, 4) filled with random integers\n",
    "array = np.random.randint(1, 11, size=(4, 4))\n",
    "column_array = np.random.randint(1, 11, size=(4,))\n",
    "print(\"Original array:\")\n",
    "print(array)\n",
    "print(\"1D array:\")\n",
    "print(column_array)\n",
    "\n",
    "# Subtract the 1D array from each column of the 2D array using broadcasting\n",
    "result = array - column_array[:, np.newaxis]\n",
    "print(\"Resulting array:\")\n",
    "print(result)\n"
   ]
  },
  {
   "cell_type": "markdown",
   "id": "fb7a8320",
   "metadata": {},
   "source": [
    "### Assignment 6: Linear Algebra\n",
    "\n",
    "1. Create a NumPy array of shape (3, 3) representing a matrix. Compute its determinant, inverse, and eigenvalues.\n",
    "2. Create two NumPy arrays of shape (2, 3) and (3, 2). Perform matrix multiplication on these arrays.\n"
   ]
  },
  {
   "cell_type": "code",
   "execution_count": 77,
   "id": "3a0ca2fc",
   "metadata": {},
   "outputs": [
    {
     "name": "stdout",
     "output_type": "stream",
     "text": [
      "[[ 5  7  8]\n",
      " [ 1  5  9]\n",
      " [ 4  1 10]]\n",
      "235.0\n",
      "[16.12940938+0.j          1.93529531+3.29002909j  1.93529531-3.29002909j]\n",
      "[[ 0.17446809 -0.26382979  0.09787234]\n",
      " [ 0.1106383   0.07659574 -0.15744681]\n",
      " [-0.08085106  0.09787234  0.07659574]]\n"
     ]
    }
   ],
   "source": [
    "array = np.random.randint(1, 11, size = (3,3))\n",
    "print(array)\n",
    "\n",
    "print(np.linalg.det(array))\n",
    "\n",
    "print(np.linalg.eigvals(array))\n",
    "\n",
    "print(np.linalg.inv(array))"
   ]
  },
  {
   "cell_type": "code",
   "execution_count": null,
   "id": "f6d730af",
   "metadata": {},
   "outputs": [],
   "source": []
  },
  {
   "cell_type": "code",
   "execution_count": null,
   "id": "56577a7b",
   "metadata": {},
   "outputs": [],
   "source": []
  },
  {
   "cell_type": "code",
   "execution_count": null,
   "id": "e054fbee",
   "metadata": {},
   "outputs": [],
   "source": []
  },
  {
   "cell_type": "code",
   "execution_count": null,
   "id": "53da919b",
   "metadata": {},
   "outputs": [],
   "source": []
  },
  {
   "cell_type": "code",
   "execution_count": null,
   "id": "27f5a668",
   "metadata": {},
   "outputs": [],
   "source": []
  },
  {
   "cell_type": "code",
   "execution_count": 78,
   "id": "14e60682",
   "metadata": {},
   "outputs": [
    {
     "name": "stdout",
     "output_type": "stream",
     "text": [
      "[[ 4  9  8]\n",
      " [10  5  5]]\n",
      "[[3 1]\n",
      " [2 7]\n",
      " [2 3]]\n",
      "Matrix multiplication result:\n",
      "[[46 91]\n",
      " [50 60]]\n"
     ]
    }
   ],
   "source": [
    "array1 = np.random.randint(1, 11, size = (2, 3))\n",
    "array2 = np.random.randint(1, 11, size = (3, 2))\n",
    "print(array1)\n",
    "print(array2)\n",
    "\n",
    "result = np.dot(array1, array2)\n",
    "print(\"Matrix multiplication result:\")\n",
    "print(result)"
   ]
  },
  {
   "cell_type": "markdown",
   "id": "c244a47d",
   "metadata": {},
   "source": [
    "\n",
    "### Assignment 7: Advanced Array Manipulation\n",
    "\n",
    "1. Create a NumPy array of shape (3, 3) with values from 1 to 9. Reshape the array to shape (1, 9) and then to shape (9, 1).\n",
    "2. Create a NumPy array of shape (5, 5) filled with random integers. Flatten the array and then reshape it back to (5, 5).\n"
   ]
  },
  {
   "cell_type": "code",
   "execution_count": null,
   "id": "6a7f410f",
   "metadata": {},
   "outputs": [
    {
     "name": "stdout",
     "output_type": "stream",
     "text": [
      "[8 2 7 9 8 2 6 5 1 4 1 2 6 3 6 3 1 6 5 8 1 3 8 9 7]\n"
     ]
    }
   ],
   "source": [
    "array = np.random.randint(1, 10, size = (5, 5)).flatten()\n",
    "print(array)\n",
    "array = \n",
    "print(array)\n"
   ]
  },
  {
   "cell_type": "markdown",
   "id": "8e42772c",
   "metadata": {},
   "source": [
    "\n",
    "### Assignment 8: Fancy Indexing and Boolean Indexing\n",
    "\n",
    "1. Create a NumPy array of shape (5, 5) filled with random integers. Use fancy indexing to extract the elements at the corners of the array.\n",
    "2. Create a NumPy array of shape (4, 4) filled with random integers. Use boolean indexing to set all elements greater than 10 to 10.\n"
   ]
  },
  {
   "cell_type": "code",
   "execution_count": null,
   "id": "7efacc8a",
   "metadata": {},
   "outputs": [],
   "source": []
  },
  {
   "cell_type": "markdown",
   "id": "94abecf2",
   "metadata": {},
   "source": [
    "\n",
    "### Assignment 9: Structured Arrays\n",
    "\n",
    "1. Create a structured array with fields 'name' (string), 'age' (integer), and 'weight' (float). Add some data and sort the array by age.\n",
    "2. Create a structured array with fields 'x' and 'y' (both integers). Add some data and compute the Euclidean distance between each pair of points.\n"
   ]
  },
  {
   "cell_type": "code",
   "execution_count": null,
   "id": "fab33426",
   "metadata": {},
   "outputs": [],
   "source": []
  },
  {
   "cell_type": "markdown",
   "id": "b9051ddd",
   "metadata": {},
   "source": [
    "\n",
    "### Assignment 10: Masked Arrays\n",
    "\n",
    "1. Create a masked array of shape (4, 4) with random integers and mask the elements greater than 10. Compute the sum of the unmasked elements.\n",
    "2. Create a masked array of shape (3, 3) with random integers and mask the diagonal elements. Replace the masked elements with the mean of the unmasked elements."
   ]
  },
  {
   "cell_type": "markdown",
   "id": "c49a3539",
   "metadata": {},
   "source": []
  }
 ],
 "metadata": {
  "kernelspec": {
   "display_name": "Python 3",
   "language": "python",
   "name": "python3"
  },
  "language_info": {
   "codemirror_mode": {
    "name": "ipython",
    "version": 3
   },
   "file_extension": ".py",
   "mimetype": "text/x-python",
   "name": "python",
   "nbconvert_exporter": "python",
   "pygments_lexer": "ipython3",
   "version": "3.13.5"
  }
 },
 "nbformat": 4,
 "nbformat_minor": 5
}
