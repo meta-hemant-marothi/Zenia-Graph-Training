{
 "cells": [
  {
   "cell_type": "code",
   "execution_count": null,
   "id": "1a7f829b",
   "metadata": {},
   "outputs": [
    {
     "name": "stdout",
     "output_type": "stream",
     "text": [
      "True\n"
     ]
    }
   ],
   "source": [
    "import redis\n",
    "import os\n",
    "from dotenv import load_dotenv\n",
    "load_dotenv()\n",
    "\n",
    "r = redis.Redis(\n",
    "    host=\"redis-15814.c305.ap-south-1-1.ec2.redns.redis-cloud.com\",\n",
    "    port=15814,\n",
    "    username=\"default\",\n",
    "    password=os.getenv(\"REDIS_PASSWORD\"),\n",
    "    decode_responses=True\n",
    ")\n",
    "\n",
    "print(r.ping())"
   ]
  },
  {
   "cell_type": "code",
   "execution_count": 2,
   "id": "41256905",
   "metadata": {},
   "outputs": [
    {
     "data": {
      "text/plain": [
       "'bar'"
      ]
     },
     "execution_count": 2,
     "metadata": {},
     "output_type": "execute_result"
    }
   ],
   "source": [
    "r.set('foo', 'bar')\n",
    "r.get('foo')"
   ]
  },
  {
   "cell_type": "code",
   "execution_count": 16,
   "id": "6953e1b9",
   "metadata": {},
   "outputs": [
    {
     "name": "stdout",
     "output_type": "stream",
     "text": [
      "Hemant\n",
      "1\n"
     ]
    },
    {
     "data": {
      "text/plain": [
       "1"
      ]
     },
     "execution_count": 16,
     "metadata": {},
     "output_type": "execute_result"
    }
   ],
   "source": [
    "# Set a key\n",
    "r.set('name', 'Hemant')\n",
    "\n",
    "# Get a key\n",
    "print(r.get('name'))  # -> 'Hemant'\n",
    "\n",
    "# Check if a key exists\n",
    "print(r.exists('name'))  # -> 1 (True)\n",
    "\n",
    "# Delete a key\n",
    "r.delete('name')\n"
   ]
  },
  {
   "cell_type": "code",
   "execution_count": 17,
   "id": "e64eefeb",
   "metadata": {},
   "outputs": [
    {
     "name": "stdout",
     "output_type": "stream",
     "text": [
      "5\n"
     ]
    }
   ],
   "source": [
    "r.set('temp_key', 'temp', ex=5)  # expires in 5 sec\n",
    "print(r.ttl('temp_key'))  # Time to live"
   ]
  },
  {
   "cell_type": "code",
   "execution_count": 18,
   "id": "ce220230",
   "metadata": {},
   "outputs": [
    {
     "name": "stdout",
     "output_type": "stream",
     "text": [
      "Hello World\n"
     ]
    }
   ],
   "source": [
    "r.set('count', 10)\n",
    "\n",
    "# Increment by 1\n",
    "r.incr('count')  # -> 11\n",
    "\n",
    "# Increment by custom value\n",
    "r.incrby('count', 5)  # -> 16\n",
    "\n",
    "# Append to a string\n",
    "r.set('msg', 'Hello')\n",
    "r.append('msg', ' World')\n",
    "print(r.get('msg'))  # -> 'Hello World'"
   ]
  },
  {
   "cell_type": "code",
   "execution_count": 19,
   "id": "77e9fd3b",
   "metadata": {},
   "outputs": [
    {
     "name": "stdout",
     "output_type": "stream",
     "text": [
      "Hemant\n",
      "{'name': 'Hemant', 'age': '30'}\n",
      "True\n"
     ]
    }
   ],
   "source": [
    "# Set hash fields\n",
    "r.hset('user:1000', 'name', 'Hemant')\n",
    "r.hset('user:1000', 'age', 30)\n",
    "\n",
    "# Get a single field\n",
    "print(r.hget('user:1000', 'name'))  # -> 'Hemant'\n",
    "\n",
    "# Get all fields\n",
    "print(r.hgetall('user:1000'))\n",
    "# -> {'name': 'Hemant', 'age': '30'}\n",
    "\n",
    "# Delete a field\n",
    "r.hdel('user:1000', 'age')\n",
    "\n",
    "# Check if field exists\n",
    "print(r.hexists('user:1000', 'name'))  # -> True"
   ]
  },
  {
   "cell_type": "code",
   "execution_count": 20,
   "id": "c4ba3b3e",
   "metadata": {},
   "outputs": [
    {
     "name": "stdout",
     "output_type": "stream",
     "text": [
      "task2\n",
      "task3\n",
      "['task3', 'task2', 'task1', 'task1']\n"
     ]
    }
   ],
   "source": [
    "r.delete('tasks')  # clean slate\n",
    "\n",
    "# Push to left (acts like stack)\n",
    "r.lpush('tasks', 'task1', 'task2')\n",
    "\n",
    "# Push to right (acts like queue)\n",
    "r.rpush('tasks', 'task3')\n",
    "\n",
    "# Pop from left\n",
    "print(r.lpop('tasks'))  # -> 'task2'\n",
    "\n",
    "# Pop from right\n",
    "print(r.rpop('tasks'))  # -> 'task3'\n",
    "\n",
    "# Get range of elements\n",
    "r.lpush('tasks', 'task1', 'task2', 'task3')\n",
    "print(r.lrange('tasks', 0, -1))\n"
   ]
  },
  {
   "cell_type": "code",
   "execution_count": 21,
   "id": "5a8ddbcc",
   "metadata": {},
   "outputs": [
    {
     "name": "stdout",
     "output_type": "stream",
     "text": [
      "{'backend', 'redis', 'python'}\n",
      "1\n"
     ]
    }
   ],
   "source": [
    "r.sadd('tags', 'python', 'redis', 'backend')\n",
    "\n",
    "# Add duplicate — won't appear twice\n",
    "r.sadd('tags', 'redis')\n",
    "\n",
    "# Members\n",
    "print(r.smembers('tags'))  # -> {'python', 'redis', 'backend'}\n",
    "\n",
    "# Remove a value\n",
    "r.srem('tags', 'backend')\n",
    "\n",
    "# Check membership\n",
    "print(r.sismember('tags', 'python'))  # True\n"
   ]
  },
  {
   "cell_type": "code",
   "execution_count": 3,
   "id": "df352bde",
   "metadata": {},
   "outputs": [
    {
     "data": {
      "text/plain": [
       "{'name': 'John', 'surname': 'Smith', 'company': 'Redis', 'age': '29'}"
      ]
     },
     "execution_count": 3,
     "metadata": {},
     "output_type": "execute_result"
    }
   ],
   "source": [
    "r.hset('user-session:123', mapping={\n",
    "    'name': 'John',\n",
    "    \"surname\": 'Smith',\n",
    "    \"company\": 'Redis',\n",
    "    \"age\": 29\n",
    "})\n",
    "\n",
    "r.hgetall('user-session:123')\n"
   ]
  },
  {
   "cell_type": "code",
   "execution_count": 22,
   "id": "df53bcf7",
   "metadata": {},
   "outputs": [
    {
     "name": "stdout",
     "output_type": "stream",
     "text": [
      "[('Alice', 100.0), ('Eve', 120.0), ('Bob', 150.0)]\n",
      "['Alice', 'Eve']\n"
     ]
    },
    {
     "data": {
      "text/plain": [
       "1"
      ]
     },
     "execution_count": 22,
     "metadata": {},
     "output_type": "execute_result"
    }
   ],
   "source": [
    "# Add members with scores\n",
    "r.zadd('leaderboard', {'Alice': 100, 'Bob': 150, 'Eve': 120})\n",
    "\n",
    "# Get members by rank\n",
    "print(r.zrange('leaderboard', 0, -1, withscores=True))\n",
    "# [('Alice', 100.0), ('Eve', 120.0), ('Bob', 150.0)]\n",
    "\n",
    "# Get members by score range\n",
    "print(r.zrangebyscore('leaderboard', 100, 130))\n",
    "\n",
    "# Remove a member\n",
    "r.zrem('leaderboard', 'Alice')\n"
   ]
  },
  {
   "cell_type": "code",
   "execution_count": 24,
   "id": "5cccf9aa",
   "metadata": {},
   "outputs": [
    {
     "name": "stdout",
     "output_type": "stream",
     "text": [
      "[True, 2, 'bar']\n"
     ]
    }
   ],
   "source": [
    "pipe = r.pipeline()\n",
    "\n",
    "pipe.set('foo', 'bar')\n",
    "pipe.incr('counter')\n",
    "pipe.get('foo')\n",
    "\n",
    "result = pipe.execute()\n",
    "print(result)\n"
   ]
  },
  {
   "cell_type": "code",
   "execution_count": 5,
   "id": "33dba8e0",
   "metadata": {},
   "outputs": [
    {
     "data": {
      "text/plain": [
       "[True, True, True]"
      ]
     },
     "execution_count": 5,
     "metadata": {},
     "output_type": "execute_result"
    }
   ],
   "source": [
    "pipe = r.pipeline()\n",
    "pipe.set('foo', 5)\n",
    "pipe.set('bar', 18.5)\n",
    "pipe.set('blee', \"hello world!\")\n",
    "pipe.execute()"
   ]
  },
  {
   "cell_type": "code",
   "execution_count": 14,
   "id": "a7c9922e",
   "metadata": {},
   "outputs": [
    {
     "name": "stdout",
     "output_type": "stream",
     "text": [
      "Result{1 total, docs: [Document {'id': 'test:1', 'payload': None, 'name': 'James', 'lastname': 'Brown'}]}\n",
      "Result{0 total, docs: []}\n"
     ]
    }
   ],
   "source": [
    "from redis.commands.search.field import TextField\n",
    "from redis.commands.search.query import Query\n",
    "from redis.commands.search.index_definition import IndexDefinition\n",
    "\n",
    "# r.ft().create_index(\n",
    "#     (TextField(\"name\"), TextField(\"lastname\")),\n",
    "#     definition=IndexDefinition(prefix=[\"test:\"]),\n",
    "# )\n",
    "\n",
    "# r.hset(\"test:1\", \"name\", \"James\")\n",
    "# r.hset(\"test:1\", \"lastname\", \"Brown\")\n",
    "\n",
    "# Query with default DIALECT 2\n",
    "query = \"@name: James Brown\"\n",
    "q = Query(query)\n",
    "res = r.ft().search(q)\n",
    "print(res)\n",
    "\n",
    "# Query with explicit DIALECT 1\n",
    "query = \"@name: James Brown\"\n",
    "q = Query(query).dialect(1)\n",
    "res = r.ft().search(q)\n",
    "print(res)\n",
    "\n"
   ]
  },
  {
   "cell_type": "code",
   "execution_count": 15,
   "id": "ea7f30aa",
   "metadata": {},
   "outputs": [
    {
     "name": "stdout",
     "output_type": "stream",
     "text": [
      "Result{3 total, docs: [Document {'id': 'doc:0', 'payload': None}, Document {'id': 'doc:1', 'payload': None}, Document {'id': 'doc:2', 'payload': None}]}\n"
     ]
    }
   ],
   "source": [
    "from sentence_transformers import SentenceTransformer\n",
    "from redis.commands.search.query import Query\n",
    "from redis.commands.search.field import TextField, TagField, VectorField\n",
    "from redis.commands.search.index_definition import IndexDefinition, IndexType\n",
    "from redis.commands.json.path import Path\n",
    "\n",
    "import numpy as np\n",
    "import redis\n",
    "\n",
    "model = SentenceTransformer(\"sentence-transformers/all-MiniLM-L6-v2\")\n",
    "\n",
    "try:\n",
    "    r.ft(\"vector_idx\").dropindex(True)\n",
    "except redis.exceptions.ResponseError:\n",
    "    pass\n",
    "\n",
    "schema = (\n",
    "    TextField(\"content\"),\n",
    "    TagField(\"genre\"),\n",
    "    VectorField(\"embedding\", \"HNSW\", {\n",
    "        \"TYPE\": \"FLOAT32\",\n",
    "        \"DIM\": 384,\n",
    "        \"DISTANCE_METRIC\":\"L2\"\n",
    "    })\n",
    ")\n",
    "\n",
    "r.ft(\"vector_idx\").create_index(\n",
    "    schema,\n",
    "    definition=IndexDefinition(\n",
    "        prefix=[\"doc:\"], index_type=IndexType.HASH\n",
    "    )\n",
    ")\n",
    "\n",
    "content = \"That is a very happy person\"\n",
    "\n",
    "r.hset(\"doc:0\", mapping={\n",
    "    \"content\": content,\n",
    "    \"genre\": \"persons\",\n",
    "    \"embedding\": model.encode(content).astype(np.float32).tobytes(),\n",
    "})\n",
    "\n",
    "content = \"That is a happy dog\"\n",
    "\n",
    "r.hset(\"doc:1\", mapping={\n",
    "    \"content\": content,\n",
    "    \"genre\": \"pets\",\n",
    "    \"embedding\": model.encode(content).astype(np.float32).tobytes(),\n",
    "})\n",
    "\n",
    "content = \"Today is a sunny day\"\n",
    "\n",
    "r.hset(\"doc:2\", mapping={\n",
    "    \"content\": content,\n",
    "    \"genre\": \"weather\",\n",
    "    \"embedding\": model.encode(content).astype(np.float32).tobytes(),\n",
    "})\n",
    "\n",
    "q = Query(\n",
    "    \"*=>[KNN 3 @embedding $vec AS vector_distance]\"\n",
    ").return_field(\"score\").dialect(2)\n",
    "\n",
    "query_text = \"That is a happy person\"\n",
    "\n",
    "res = r.ft(\"vector_idx\").search(\n",
    "    q, query_params={\n",
    "        \"vec\": model.encode(query_text).astype(np.float32).tobytes()\n",
    "    }\n",
    ")\n",
    "\n",
    "print(res)"
   ]
  },
  {
   "cell_type": "code",
   "execution_count": null,
   "id": "35481c26",
   "metadata": {},
   "outputs": [
    {
     "name": "stdout",
     "output_type": "stream",
     "text": [
      "Result{1 total, docs: [Document {'id': 'user:3', 'payload': None, 'json': '{\"name\":\"Paul Zamir\",\"email\":\"paul.zamir@example.com\",\"age\":35,\"city\":\"Tel Aviv\"}'}]}\n",
      "[Document {'id': 'user:1', 'payload': None, 'city': 'London'}, Document {'id': 'user:3', 'payload': None, 'city': 'Tel Aviv'}]\n",
      "[['city', 'London', 'count', '1'], ['city', 'Tel Aviv', 'count', '2']]\n",
      "Result{1 total, docs: [Document {'id': 'huser:3', 'payload': None, 'name': 'Paul Zamir', 'email': 'paul.zamir@example.com', 'age': '35', 'city': 'Tel Aviv'}]}\n"
     ]
    }
   ],
   "source": [
    "import redis\n",
    "from redis.commands.json.path import Path\n",
    "import redis.commands.search.aggregation as aggregations\n",
    "import redis.commands.search.reducers as reducers\n",
    "from redis.commands.search.field import TextField, NumericField, TagField\n",
    "from redis.commands.search.index_definition import IndexDefinition, IndexType\n",
    "from redis.commands.search.query import Query\n",
    "import redis.exceptions\n",
    "\n",
    "\n",
    "user1 = {\n",
    "    \"name\": \"Paul John\",\n",
    "    \"email\": \"paul.john@example.com\",\n",
    "    \"age\": 42,\n",
    "    \"city\": \"London\"\n",
    "}\n",
    "\n",
    "user2 = {\n",
    "    \"name\": \"Eden Zamir\",\n",
    "    \"email\": \"eden.zamir@example.com\",\n",
    "    \"age\": 29,\n",
    "    \"city\": \"Tel Aviv\"\n",
    "}\n",
    "\n",
    "user3 = {\n",
    "    \"name\": \"Paul Zamir\",\n",
    "    \"email\": \"paul.zamir@example.com\",\n",
    "    \"age\": 35,\n",
    "    \"city\": \"Tel Aviv\"\n",
    "}\n",
    "\n",
    "schema = (\n",
    "    TextField(\"$.name\", as_name=\"name\"),\n",
    "    TagField(\"$.city\", as_name=\"city\"),\n",
    "    NumericField(\"$.age\", as_name=\"age\")\n",
    ")\n",
    "\n",
    "indexCreated = r.ft(\"idx:users\").create_index(\n",
    "    schema,\n",
    "    definition=IndexDefinition(\n",
    "        prefix=[\"user:\"], index_type=IndexType.JSON\n",
    "    )\n",
    ")\n",
    "\n",
    "user1Set = r.json().set(\"user:1\", Path.root_path(), user1)\n",
    "user2Set = r.json().set(\"user:2\", Path.root_path(), user2)\n",
    "user3Set = r.json().set(\"user:3\", Path.root_path(), user3)\n",
    "\n",
    "findPaulResult = r.ft(\"idx:users\").search(\n",
    "    Query(\"Paul @age:[30 40]\")\n",
    ")\n",
    "\n",
    "print(findPaulResult)\n",
    "\n",
    "\n",
    "citiesResult = r.ft(\"idx:users\").search(\n",
    "    Query(\"Paul\").return_field(\"$.city\", as_field=\"city\")\n",
    ").docs\n",
    "\n",
    "print(citiesResult)\n",
    "\n",
    "\n",
    "req = aggregations.AggregateRequest(\"*\").group_by(\n",
    "    '@city', reducers.count().alias('count')\n",
    ")\n",
    "\n",
    "aggResult = r.ft(\"idx:users\").aggregate(req).rows\n",
    "print(aggResult)\n",
    "\n",
    "hashSchema = (\n",
    "    TextField(\"name\"),\n",
    "    TagField(\"city\"),\n",
    "    NumericField(\"age\")\n",
    ")\n",
    "\n",
    "hashIndexCreated = r.ft(\"hash-idx:users\").create_index(\n",
    "    hashSchema,\n",
    "    definition=IndexDefinition(\n",
    "        prefix=[\"huser:\"], index_type=IndexType.HASH\n",
    "    )\n",
    ")\n",
    "\n",
    "huser1Set = r.hset(\"huser:1\", mapping=user1)\n",
    "huser2Set = r.hset(\"huser:2\", mapping=user2)\n",
    "huser3Set = r.hset(\"huser:3\", mapping=user3)\n",
    "\n",
    "findPaulHashResult = r.ft(\"hash-idx:users\").search(\n",
    "    Query(\"Paul @age:[30 40]\")\n",
    ")\n",
    "\n",
    "print(findPaulHashResult)\n",
    "\n",
    "r.close()\n"
   ]
  },
  {
   "cell_type": "code",
   "execution_count": null,
   "id": "4b9d1875",
   "metadata": {},
   "outputs": [],
   "source": []
  }
 ],
 "metadata": {
  "kernelspec": {
   "display_name": "redis",
   "language": "python",
   "name": "python3"
  },
  "language_info": {
   "codemirror_mode": {
    "name": "ipython",
    "version": 3
   },
   "file_extension": ".py",
   "mimetype": "text/x-python",
   "name": "python",
   "nbconvert_exporter": "python",
   "pygments_lexer": "ipython3",
   "version": "3.13.5"
  }
 },
 "nbformat": 4,
 "nbformat_minor": 5
}
