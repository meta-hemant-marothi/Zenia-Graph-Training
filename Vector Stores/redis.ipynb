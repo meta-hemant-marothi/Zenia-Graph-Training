{
 "cells": [
  {
   "cell_type": "code",
   "execution_count": 132,
   "id": "6d41011b",
   "metadata": {},
   "outputs": [],
   "source": [
    "import json\n",
    "import time\n",
    "\n",
    "import numpy as np\n",
    "import pandas as pd\n",
    "import requests\n",
    "import redis\n",
    "from redis.commands.search.field import (\n",
    "    NumericField,\n",
    "    TagField,\n",
    "    TextField,\n",
    "    VectorField,\n",
    ")\n",
    "from redis.commands.search.index_definition import IndexDefinition, IndexType\n",
    "from redis.commands.search.query import Query\n",
    "from sentence_transformers import SentenceTransformer"
   ]
  },
  {
   "cell_type": "code",
   "execution_count": 133,
   "id": "d4c77f4b",
   "metadata": {},
   "outputs": [
    {
     "name": "stdout",
     "output_type": "stream",
     "text": [
      "True\n"
     ]
    }
   ],
   "source": [
    "import redis\n",
    "import os\n",
    "from dotenv import load_dotenv\n",
    "load_dotenv()\n",
    "# Replace with your actual connection details\n",
    "client = redis.Redis(\n",
    "    host=\"redis-15814.c305.ap-south-1-1.ec2.redns.redis-cloud.com\",\n",
    "    port=15814,\n",
    "    username=\"default\",\n",
    "    password=os.getenv(\"REDIS_PASSWORD\"),\n",
    "    decode_responses=True   # Keep False for vectors (binary)\n",
    ")\n",
    "\n",
    "# Test the connection\n",
    "print(client.ping())  # Should print True if connected\n"
   ]
  },
  {
   "cell_type": "code",
   "execution_count": 134,
   "id": "21db956a",
   "metadata": {},
   "outputs": [],
   "source": [
    "URL = (\"https://raw.githubusercontent.com/bsbodden/redis_vss_getting_started\"\n",
    "       \"/main/data/bikes.json\"\n",
    "       )\n",
    "response = requests.get(URL, timeout=10)\n",
    "bikes = response.json()"
   ]
  },
  {
   "cell_type": "code",
   "execution_count": 135,
   "id": "4dad072c",
   "metadata": {},
   "outputs": [
    {
     "data": {
      "text/plain": [
       "'{\\n  \"model\": \"Jigger\",\\n  \"brand\": \"Velorim\",\\n  \"price\": 270,\\n  \"type\": \"Kids bikes\",\\n  \"specs\": {\\n    \"material\": \"aluminium\",\\n    \"weight\": \"10\"\\n  },\\n  \"description\": \"Small and powerful, the Jigger is the best ride for the smallest of tikes! This is the tiniest kids\\\\u2019 pedal bike on the market available without a coaster brake, the Jigger is the vehicle of choice for the rare tenacious little rider raring to go. We say rare because this smokin\\\\u2019 little bike is not ideal for a nervous first-time rider, but it\\\\u2019s a true giddy up for a true speedster. The Jigger is a 12 inch lightweight kids bicycle and it will meet your little one\\\\u2019s need for speed. It\\\\u2019s a single speed bike that makes learning to pump pedals simple and intuitive. It even has  a handle in the bottom of the saddle so you can easily help your child during training!  The Jigger is among the most lightweight children\\\\u2019s bikes on the planet. It is designed so that 2-3 year-olds fit comfortably in a molded ride position that allows for efficient riding, balanced handling and agility. The Jigger\\\\u2019s frame design and gears work together so your buddingbiker can stand up out of the seat, stop rapidly, rip over trails and pump tracks. The Jigger\\\\u2019s is amazing on dirt or pavement. Your tike will speed down the bike path in no time. The Jigger will ship with a coaster brake. A freewheel kit is provided at no cost. \"\\n}'"
      ]
     },
     "execution_count": 135,
     "metadata": {},
     "output_type": "execute_result"
    }
   ],
   "source": [
    "json.dumps(bikes[0], indent=2)"
   ]
  },
  {
   "cell_type": "code",
   "execution_count": 136,
   "id": "a5f2aa71",
   "metadata": {},
   "outputs": [],
   "source": [
    "pipeline = client.pipeline()\n",
    "for i, bike in enumerate(bikes, start=1):\n",
    "    redis_key = f\"bikes:{i:03}\"\n",
    "    pipeline.json().set(redis_key, \"$\", bike)\n",
    "res = pipeline.execute()"
   ]
  },
  {
   "cell_type": "code",
   "execution_count": 137,
   "id": "983f0070",
   "metadata": {},
   "outputs": [],
   "source": [
    "res = client.json().get(\"bikes:010\", \"$.model\")"
   ]
  },
  {
   "cell_type": "code",
   "execution_count": 138,
   "id": "f23282c3",
   "metadata": {},
   "outputs": [],
   "source": [
    "from sentence_transformers import SentenceTransformer\n",
    "\n",
    "embedder = SentenceTransformer('sentence-transformers/all-MiniLM-L6-v2')"
   ]
  },
  {
   "cell_type": "code",
   "execution_count": 139,
   "id": "b4391d25",
   "metadata": {},
   "outputs": [],
   "source": [
    "keys = sorted(client.keys(\"bikes:*\"))"
   ]
  },
  {
   "cell_type": "code",
   "execution_count": 140,
   "id": "cc970246",
   "metadata": {},
   "outputs": [],
   "source": [
    "descriptions = client.json().mget(keys, \"$.description\")\n",
    "descriptions = [item for sublist in descriptions for item in sublist]\n",
    "embedder = SentenceTransformer('sentence-transformers/all-MiniLM-L6-v2')\n",
    "embeddings = embedder.encode(descriptions).astype(np.float32).tolist()\n",
    "VECTOR_DIMENSION = len(embeddings[0])"
   ]
  },
  {
   "cell_type": "code",
   "execution_count": 141,
   "id": "a605b0a8",
   "metadata": {},
   "outputs": [
    {
     "data": {
      "text/plain": [
       "[True, True, True, True, True, True, True, True, True, True, True]"
      ]
     },
     "execution_count": 141,
     "metadata": {},
     "output_type": "execute_result"
    }
   ],
   "source": [
    "pipeline = client.pipeline()\n",
    "for key, embedding in zip(keys, embeddings):\n",
    "    pipeline.json().set(key, \"$.description_embeddings\", embedding)\n",
    "pipeline.execute()"
   ]
  },
  {
   "cell_type": "code",
   "execution_count": 142,
   "id": "d7678a1d",
   "metadata": {},
   "outputs": [
    {
     "name": "stdout",
     "output_type": "stream",
     "text": [
      "{'model': 'Summit', 'brand': 'nHill', 'price': 1200, 'type': 'Mountain Bike', 'specs': {'material': 'alloy', 'weight': '11.3'}, 'description': 'This budget mountain bike from nHill performs well both on bike paths and on the trail. The fork with 100mm of travel absorbs rough terrain. Fat Kenda Booster tires give you grip in corners and on wet trails. The Shimano Tourney drivetrain offered enough gears for finding a comfortable pace to ride uphill, and the Tektro hydraulic disc brakes break smoothly. Whether you want an affordable bike that you can take to work, but also take trail riding on the weekends or you’re just after a stable, comfortable ride for the bike path, the Summit gives a good value for money.', 'description_embeddings': [-0.02302267961204052, 0.028864793479442596, -0.011019092984497547, -0.01631254516541958, -0.040435660630464554, -0.04391076788306236, -0.012792539782822132, 0.04141660779714584, -0.04205171391367912, 0.012153241783380508, -0.019826406612992287, -0.027031172066926956, -0.005235971882939339, 0.017185796052217484, 0.018019193783402443, -0.012346412055194378, 0.10425020754337312, 0.01905936188995838, 0.07763868570327759, -0.07538596540689468, -0.007783015258610248, -2.276458872074727e-06, 0.032277662307024, 0.026214640587568283, -0.01814602129161358, 0.03856751322746277, -0.016887053847312927, 0.05381036177277565, 0.028427312150597572, -0.04817470163106918, -0.029653426259756088, -0.014554034918546677, -0.05306573957204819, -0.08832570910453796, 0.01362894382327795, 0.038168493658304214, 0.04144308716058731, -0.005579677410423756, -0.08283126354217529, 0.0021270085126161575, -0.0026852714363485575, -0.02078498713672161, -0.02531072124838829, -0.042811524122953415, 0.04292340576648712, -0.05749722197651863, 0.018230658024549484, -0.02405465580523014, 0.03767048940062523, -0.0070612127892673016, 0.008796717040240765, -0.10728174448013306, 0.0971289649605751, -0.049483295530080795, -0.02242790348827839, 0.002855210332199931, -0.09414900094270706, -0.03376389667391777, 0.011527708731591702, -0.05468949303030968, 0.02387281134724617, -0.0350201278924942, -0.03638876602053642, 0.00553769338876009, 0.06574157625436783, -0.045252010226249695, -0.0695333257317543, -0.06718522310256958, 0.011140160262584686, -0.05911077558994293, 0.03708338364958763, 0.03112579882144928, 0.010282578878104688, 0.0007231267518363893, -0.026829782873392105, -0.02119789831340313, 0.05525415018200874, 0.02234768867492676, 0.010412896052002909, 0.02438170276582241, -0.03891095146536827, 0.03015194833278656, 0.10064993053674698, -0.05228543281555176, 0.07917266339063644, -0.043932899832725525, 0.03483470901846886, -0.03877898678183555, 0.04150906950235367, 0.04629087448120117, 0.08297021687030792, 0.0306925717741251, -0.004851824138313532, 0.007971001788973808, -0.10818912833929062, -0.011390432715415956, -0.0033794657792896032, 0.054342083632946014, -0.011824083514511584, 0.02213813178241253, 0.05685354024171829, 0.06986795365810394, 0.01012352854013443, -0.022812403738498688, 0.03855317831039429, -0.01828947477042675, 0.046278517693281174, 0.05293168127536774, 0.02131304331123829, 0.1120651587843895, -0.04047010838985443, -0.0365002304315567, 0.002465235535055399, 0.033826738595962524, 0.007979338988661766, -0.07064206898212433, -0.10105932503938676, 0.02805429697036743, -0.026685267686843872, 0.023393714800477028, -0.0727582722902298, -0.04197569936513901, 0.033235687762498856, 0.07037493586540222, 0.02085747942328453, -0.06101313605904579, 0.006200802978128195, 2.0017485953313038e-33, 0.03683922439813614, 0.04598228260874748, -0.03792440518736839, -0.03722739219665527, 0.016255628317594528, -0.0688094049692154, -0.014939206652343271, -0.10466866940259932, -0.12953585386276245, -0.004175967536866665, -0.07398085296154022, 0.07117995619773865, -0.050142548978328705, 0.061247825622558594, 0.08976545929908752, -0.10262703150510788, -0.05985722318291664, -0.0521862767636776, -0.04000314325094223, 0.07941798865795135, 0.039824023842811584, 0.015770625323057175, 0.05989448353648186, -0.006749656517058611, 0.020790811628103256, -0.06738830357789993, 0.014520693570375444, 0.017146576195955276, -0.0180039219558239, 0.06567241251468658, -0.1210382953286171, -0.09570135176181792, -0.03195380046963692, -0.06426345556974411, -0.03974821791052818, -0.010495442897081377, -0.07969140261411667, -0.03337336704134941, 0.01297938358038664, 0.012949536554515362, -0.005136022809892893, 0.00635541370138526, -0.02228461392223835, 0.0154055068269372, -0.07172796130180359, 0.07753262668848038, 0.1548544317483902, 0.07655613869428635, -0.056937072426080704, -0.004858167842030525, -0.08091561496257782, -0.00637528533115983, -0.03252438083291054, 0.0003548244421835989, -0.06716775894165039, -0.05520651489496231, 0.051298320293426514, 0.004129200242459774, 0.012134794145822523, 0.07120770961046219, -0.01881551556289196, 0.03114350512623787, -0.024353548884391785, -0.011358612217009068, -0.09510426968336104, -0.006542310118675232, -0.007695390842854977, 0.0010839287424460051, -0.005140229593962431, 0.0005615820991806686, 0.011750418692827225, 0.05227915570139885, 0.1182561069726944, 0.02174344472587109, 0.11672694981098176, -0.08344206213951111, -0.016605259850621223, -0.03104570508003235, -0.02072730101644993, 0.05990792438387871, 0.0029762883204966784, -0.035216912627220154, -0.028827156871557236, 0.021653909236192703, -0.0029655550606548786, 0.016589270904660225, 0.043493714183568954, -0.0602991059422493, -0.024731652811169624, -0.006143687758594751, -0.029123548418283463, 0.014029276557266712, -0.010888486169278622, -0.018857592716813087, 0.02501013316214085, -3.2328471350253475e-33, 0.12598244845867157, 0.02980240061879158, 0.10694633424282074, 0.014808922074735165, -0.04181893542408943, 0.01760408654808998, -0.005873809568583965, -0.016610639169812202, -0.012330127879977226, -0.018155479803681377, 0.012869990430772305, -0.022199302911758423, 0.02891145460307598, 0.07391884922981262, 0.0553755909204483, -0.05190926790237427, -0.03225260600447655, -0.014411264099180698, 0.03514714539051056, -0.1299448013305664, -0.01036506425589323, 0.07914473116397858, -0.11429110914468764, -0.08640289306640625, -0.0023411742877215147, 0.04430010169744491, -0.15312887728214264, 0.07615739107131958, -0.049642790108919144, 0.073739193379879, -0.011352023109793665, 0.0379304513335228, 0.0029431162402033806, -0.005013603717088699, 0.0033762794919312, 0.1254177838563919, 0.01974479667842388, 0.001733931596390903, 0.024893907830119133, 0.055209871381521225, 0.09741372615098952, -0.05677418410778046, 0.08875961601734161, 0.001925524789839983, 0.024879327043890953, 0.014926891773939133, 0.0032223830930888653, 0.09046542644500732, 0.00917272176593542, -0.009699232876300812, 0.06823952496051788, 0.09116268157958984, 0.008898820728063583, 0.09871675074100494, 0.0016827540239319203, -0.003640166949480772, 0.017767293378710747, -0.03428991511464119, -0.09329752624034882, -0.031104765832424164, -0.05061722919344902, -0.006799955386668444, -0.06454195082187653, 0.010537381283938885, -0.01485147885978222, -0.07493942975997925, 0.016354909166693687, -0.05494058132171631, -0.011835750192403792, 0.014288107864558697, -0.12988601624965668, -0.04507824033498764, 0.08834664523601532, -0.03906526044011116, -0.023897280916571617, 0.018025605008006096, 0.05932182818651199, 0.019866343587636948, 0.038914088159799576, -0.02528957463800907, -0.02574283815920353, -0.03570616617798805, -0.01185899693518877, -0.01464579440653324, 0.05320263281464577, 0.06570130586624146, -0.012989991344511507, -0.11134353280067444, -0.0372907854616642, 0.03827589377760887, 0.09369681030511856, 0.010727799497544764, -0.012471988797187803, 0.03942997008562088, -0.004758110735565424, -4.211640813878148e-08, 0.06437405943870544, 0.02394017018377781, -0.01644420437514782, -0.000672453548759222, 0.01552558969706297, -0.00987249892205, -0.018113702535629272, -0.00045565314940176904, 0.01182212121784687, 0.065146304666996, 0.13159620761871338, 0.033294014632701874, -0.06909369677305222, 0.04100855439901352, -0.04634683579206467, 0.04330582916736603, 0.020024165511131287, 0.13237044215202332, 0.012571126222610474, -0.027368765324354172, -0.053583282977342606, -0.05608426034450531, 0.001989165088161826, -0.023545797914266583, -0.01688760705292225, 0.01617676205933094, 0.015060038305819036, 0.013102484866976738, -0.0013504535891115663, -0.043854955583810806, -0.06533129513263702, 0.0407392680644989, -0.017398672178387642, 0.03824450820684433, 0.0857844352722168, -0.020886104553937912, -0.11867773532867432, 0.06499022990465164, -0.004630840849131346, 0.06520850956439972, 0.047771088778972626, 0.011636265553534033, -0.029780641198158264, 0.04042477905750275, -0.004538759123533964, 0.036234792321920395, -0.045868609100580215, 0.004123697988688946, 0.00029899351648055017, -0.02939058467745781, -0.05134940147399902, 0.026735248044133183, 0.05753807350993157, 0.022844014689326286, 0.01720537804067135, 0.08370695263147354, -0.05780419707298279, -0.08223925530910492, -0.0318869948387146, 0.050750356167554855, 0.025418488308787342, -0.08717041462659836, -0.015442593954503536, -0.07848034799098969]}\n"
     ]
    }
   ],
   "source": [
    "res = client.json().get(\"bikes:010\")\n",
    "print(res)"
   ]
  },
  {
   "cell_type": "code",
   "execution_count": 143,
   "id": "1c341949",
   "metadata": {},
   "outputs": [],
   "source": [
    "schema = (\n",
    "    TextField(\"$.model\", no_stem=True, as_name=\"model\"),\n",
    "    TextField(\"$.brand\", no_stem=True, as_name=\"brand\"),\n",
    "    NumericField(\"$.price\", as_name=\"price\"),\n",
    "    TagField(\"$.type\", as_name=\"type\"),\n",
    "    TextField(\"$.description\", as_name=\"description\"),\n",
    "    VectorField(\n",
    "        \"$.description_embeddings\",\n",
    "        \"FLAT\",\n",
    "        {\n",
    "            \"TYPE\": \"FLOAT32\",\n",
    "            \"DIM\": VECTOR_DIMENSION,\n",
    "            \"DISTANCE_METRIC\": \"COSINE\",\n",
    "        },\n",
    "        as_name=\"vector\",\n",
    "    ),\n",
    ")\n",
    "definition = IndexDefinition(prefix=[\"bikes:\"], index_type=IndexType.JSON)\n",
    "res = client.ft(\"idx:bikes_vss\").create_index(fields=schema, definition=definition)"
   ]
  },
  {
   "cell_type": "code",
   "execution_count": 144,
   "id": "d1537810",
   "metadata": {},
   "outputs": [],
   "source": [
    "info = client.ft(\"idx:bikes_vss\").info()\n",
    "num_docs = info[\"num_docs\"]\n",
    "indexing_failures = info[\"hash_indexing_failures\"]"
   ]
  },
  {
   "cell_type": "code",
   "execution_count": 145,
   "id": "f0194562",
   "metadata": {},
   "outputs": [],
   "source": [
    "queries = [\n",
    "    \"Bike for small kids\",\n",
    "    \"Best Mountain bikes for kids\",\n",
    "    \"Cheap Mountain bike for kids\",\n",
    "    \"Female specific mountain bike\",\n",
    "    \"Road bike for beginners\",\n",
    "    \"Commuter bike for people over 60\",\n",
    "    \"Comfortable commuter bike\",\n",
    "    \"Good bike for college students\",\n",
    "    \"Mountain bike for beginners\",\n",
    "    \"Vintage bike\",\n",
    "    \"Comfortable city bike\",\n",
    "]"
   ]
  },
  {
   "cell_type": "code",
   "execution_count": 146,
   "id": "877e2af5",
   "metadata": {},
   "outputs": [
    {
     "data": {
      "text/plain": [
       "11"
      ]
     },
     "execution_count": 146,
     "metadata": {},
     "output_type": "execute_result"
    }
   ],
   "source": [
    "encoded_queries = embedder.encode(queries)\n",
    "len(encoded_queries)\n"
   ]
  },
  {
   "cell_type": "code",
   "execution_count": 147,
   "id": "e120eb7f",
   "metadata": {},
   "outputs": [],
   "source": [
    "query = (\n",
    "    Query('(*)=>[KNN 3 @vector $query_vector AS vector_score]')\n",
    "     .sort_by('vector_score')\n",
    "     .return_fields('vector_score', 'id', 'brand', 'model', 'description')\n",
    "     .dialect(2)\n",
    ")"
   ]
  },
  {
   "cell_type": "code",
   "execution_count": 149,
   "id": "63e11f90",
   "metadata": {},
   "outputs": [
    {
     "data": {
      "text/plain": [
       "[Document {'id': 'bikes:001', 'payload': None, 'vector_score': '0.463398039341', 'brand': 'Velorim', 'model': 'Jigger', 'description': 'Small and powerful, the Jigger is the best ride for the smallest of tikes! This is the tiniest kids’ pedal bike on the market available without a coaster brake, the Jigger is the vehicle of choice for the rare tenacious little rider raring to go. We say rare because this smokin’ little bike is not ideal for a nervous first-time rider, but it’s a true giddy up for a true speedster. The Jigger is a 12 inch lightweight kids bicycle and it will meet your little one’s need for speed. It’s a single speed bike that makes learning to pump pedals simple and intuitive. It even has  a handle in the bottom of the saddle so you can easily help your child during training!  The Jigger is among the most lightweight children’s bikes on the planet. It is designed so that 2-3 year-olds fit comfortably in a molded ride position that allows for efficient riding, balanced handling and agility. The Jigger’s frame design and gears work together so your buddingbiker can stand up out of the seat, stop rapidly, rip over trails and pump tracks. The Jigger’s is amazing on dirt or pavement. Your tike will speed down the bike path in no time. The Jigger will ship with a coaster brake. A freewheel kit is provided at no cost. '},\n",
       " Document {'id': 'bikes:003', 'payload': None, 'vector_score': '0.529790341854', 'brand': 'Nord', 'model': 'Chook air 5', 'description': 'The Chook Air 5  gives kids aged six years and older a durable and uberlight mountain bike for their first experience on tracks and easy cruising through forests and fields. The lower  top tube makes it easy to mount and dismount in any situation, giving your kids greater safety on the trails. The Chook Air 5 is the perfect intro to mountain biking.'},\n",
       " Document {'id': 'bikes:007', 'payload': None, 'vector_score': '0.540809869766', 'brand': 'ScramBikes', 'model': 'WattBike', 'description': 'The WattBike is the best e-bike for people who still feel young at heart. It has a  Bafang 500 watt geared hub motor that can reach 20 miles per hour on both steep inclines and city streets. The lithium-ion battery, which gets nearly 40 miles per charge, has a lightweight form factor, making it easier for seniors to use. It comes fully assembled (no convoluted instructions!) and includes a sturdy helmet at no cost. The Plush saddle softens over time with use. The included Seatpost, however, is easily adjustable and adds to this bike’s fantastic rating for seniors, as do the hydraulic disc brakes from Tektro.  '}]"
      ]
     },
     "execution_count": 149,
     "metadata": {},
     "output_type": "execute_result"
    }
   ],
   "source": [
    "client.ft('idx:bikes_vss').search(\n",
    "    query,\n",
    "    {\n",
    "      'query_vector': np.array(encoded_queries[0], dtype=np.float32).tobytes()\n",
    "    }\n",
    ").docs"
   ]
  },
  {
   "cell_type": "code",
   "execution_count": 150,
   "id": "ec6351a7",
   "metadata": {},
   "outputs": [],
   "source": [
    "def create_query_table(query, queries, encoded_queries, extra_params=None):\n",
    "    \"\"\"\n",
    "    Creates a query table.\n",
    "    \"\"\"\n",
    "    results_list = []\n",
    "    for i, encoded_query in enumerate(encoded_queries):\n",
    "        result_docs = (\n",
    "            client.ft(\"idx:bikes_vss\")\n",
    "            .search(\n",
    "                query,\n",
    "                {\"query_vector\": np.array(encoded_query, dtype=np.float32).tobytes()}\n",
    "                | (extra_params if extra_params else {}),\n",
    "            )\n",
    "            .docs\n",
    "        )\n",
    "        for doc in result_docs:\n",
    "            vector_score = round(1 - float(doc.vector_score), 2)\n",
    "            results_list.append(\n",
    "                {\n",
    "                    \"query\": queries[i],\n",
    "                    \"score\": vector_score,\n",
    "                    \"id\": doc.id,\n",
    "                    \"brand\": doc.brand,\n",
    "                    \"model\": doc.model,\n",
    "                    \"description\": doc.description,\n",
    "                }\n",
    "            )\n",
    "\n",
    "    # Optional: convert the table to Markdown using Pandas\n",
    "    queries_table = pd.DataFrame(results_list)\n",
    "    queries_table.sort_values(\n",
    "        by=[\"query\", \"score\"], ascending=[True, False], inplace=True\n",
    "    )\n",
    "    queries_table[\"query\"] = queries_table.groupby(\"query\")[\"query\"].transform(\n",
    "        lambda x: [x.iloc[0]] + [\"\"] * (len(x) - 1)\n",
    "    )\n",
    "    queries_table[\"description\"] = queries_table[\"description\"].apply(\n",
    "        lambda x: (x[:497] + \"...\") if len(x) > 500 else x\n",
    "    )\n",
    "    return queries_table.to_markdown(index=False)"
   ]
  },
  {
   "cell_type": "code",
   "execution_count": 151,
   "id": "7fd5f133",
   "metadata": {},
   "outputs": [
    {
     "name": "stdout",
     "output_type": "stream",
     "text": [
      "| query                            |   score | id        | brand      | model                | description                                                                                                                                                                                                                                                                                                                                                                                                                                                                                                          |\n",
      "|:---------------------------------|--------:|:----------|:-----------|:---------------------|:---------------------------------------------------------------------------------------------------------------------------------------------------------------------------------------------------------------------------------------------------------------------------------------------------------------------------------------------------------------------------------------------------------------------------------------------------------------------------------------------------------------------|\n",
      "| Best Mountain bikes for kids     |    0.59 | bikes:003 | Nord       | Chook air 5          | The Chook Air 5  gives kids aged six years and older a durable and uberlight mountain bike for their first experience on tracks and easy cruising through forests and fields. The lower  top tube makes it easy to mount and dismount in any situation, giving your kids greater safety on the trails. The Chook Air 5 is the perfect intro to mountain biking.                                                                                                                                                      |\n",
      "|                                  |    0.57 | bikes:002 | Bicyk      | Hillcraft            | Kids want to ride with as little weight as possible. Especially on an incline! They may be at the age when a 27.5\" wheel bike is just too clumsy coming off a 24\" bike. The Hillcraft 26 is just the solution they need! Imagine 120mm travel. Boost front/rear.  You have NOTHING to tweak because it is easy to assemble right out of the box. The Hillcraft 26 is an efficient trail trekking machine. Up or down does not matter - dominate the trails going both down and up with this amazing bike. The nam... |\n",
      "|                                  |    0.5  | bikes:011 | BikeShind  | ThrillCycle          | An artsy,  retro-inspired bicycle that’s as functional as it is pretty: The ThrillCycle steel frame offers a smooth ride. A 9-speed drivetrain has enough gears for coasting in the city, but we wouldn’t suggest taking it to the mountains. Fenders protect you from mud, and a rear basket lets you transport groceries, flowers and books. The ThrillCycle comes with a limited lifetime warranty, so this little guy will last you long past graduation.                                                        |\n",
      "| Bike for small kids              |    0.54 | bikes:001 | Velorim    | Jigger               | Small and powerful, the Jigger is the best ride for the smallest of tikes! This is the tiniest kids’ pedal bike on the market available without a coaster brake, the Jigger is the vehicle of choice for the rare tenacious little rider raring to go. We say rare because this smokin’ little bike is not ideal for a nervous first-time rider, but it’s a true giddy up for a true speedster. The Jigger is a 12 inch lightweight kids bicycle and it will meet your little one’s need for speed. It’s a single... |\n",
      "|                                  |    0.47 | bikes:003 | Nord       | Chook air 5          | The Chook Air 5  gives kids aged six years and older a durable and uberlight mountain bike for their first experience on tracks and easy cruising through forests and fields. The lower  top tube makes it easy to mount and dismount in any situation, giving your kids greater safety on the trails. The Chook Air 5 is the perfect intro to mountain biking.                                                                                                                                                      |\n",
      "|                                  |    0.46 | bikes:007 | ScramBikes | WattBike             | The WattBike is the best e-bike for people who still feel young at heart. It has a  Bafang 500 watt geared hub motor that can reach 20 miles per hour on both steep inclines and city streets. The lithium-ion battery, which gets nearly 40 miles per charge, has a lightweight form factor, making it easier for seniors to use. It comes fully assembled (no convoluted instructions!) and includes a sturdy helmet at no cost. The Plush saddle softens over time with use. The included Seatpost, however, i... |\n",
      "| Cheap Mountain bike for kids     |    0.54 | bikes:003 | Nord       | Chook air 5          | The Chook Air 5  gives kids aged six years and older a durable and uberlight mountain bike for their first experience on tracks and easy cruising through forests and fields. The lower  top tube makes it easy to mount and dismount in any situation, giving your kids greater safety on the trails. The Chook Air 5 is the perfect intro to mountain biking.                                                                                                                                                      |\n",
      "|                                  |    0.53 | bikes:002 | Bicyk      | Hillcraft            | Kids want to ride with as little weight as possible. Especially on an incline! They may be at the age when a 27.5\" wheel bike is just too clumsy coming off a 24\" bike. The Hillcraft 26 is just the solution they need! Imagine 120mm travel. Boost front/rear.  You have NOTHING to tweak because it is easy to assemble right out of the box. The Hillcraft 26 is an efficient trail trekking machine. Up or down does not matter - dominate the trails going both down and up with this amazing bike. The nam... |\n",
      "|                                  |    0.51 | bikes:011 | BikeShind  | ThrillCycle          | An artsy,  retro-inspired bicycle that’s as functional as it is pretty: The ThrillCycle steel frame offers a smooth ride. A 9-speed drivetrain has enough gears for coasting in the city, but we wouldn’t suggest taking it to the mountains. Fenders protect you from mud, and a rear basket lets you transport groceries, flowers and books. The ThrillCycle comes with a limited lifetime warranty, so this little guy will last you long past graduation.                                                        |\n",
      "| Comfortable city bike            |    0.56 | bikes:011 | BikeShind  | ThrillCycle          | An artsy,  retro-inspired bicycle that’s as functional as it is pretty: The ThrillCycle steel frame offers a smooth ride. A 9-speed drivetrain has enough gears for coasting in the city, but we wouldn’t suggest taking it to the mountains. Fenders protect you from mud, and a rear basket lets you transport groceries, flowers and books. The ThrillCycle comes with a limited lifetime warranty, so this little guy will last you long past graduation.                                                        |\n",
      "|                                  |    0.45 | bikes:009 | Peaknetic  | Secto                | If you struggle with stiff fingers or a kinked neck or back after a few minutes on the road, this lightweight, aluminum bike alleviates those issues and allows you to enjoy the ride. From the ergonomic grips to the lumbar-supporting seat position, the Roll Low-Entry offers incredible comfort. The rear-inclined seat tube facilitates stability by allowing you to put a foot on the ground to balance at a stop, and the low step-over frame makes it accessible for all ability and mobility levels. Th... |\n",
      "|                                  |    0.45 | bikes:008 | Peaknetic  | Soothe Electric bike | The Soothe is an everyday electric bike, from the makers of Exercycle  bikes, that conveys style while you get around the city. The Soothe lives up to its name by keeping your posture upright and relaxed for the ride ahead, keeping those aches and pains from riding at bay. It includes a low-step frame , our memory foam seat, bump-resistant shocks and conveniently placed thumb throttle.                                                                                                                 |\n",
      "| Comfortable commuter bike        |    0.52 | bikes:011 | BikeShind  | ThrillCycle          | An artsy,  retro-inspired bicycle that’s as functional as it is pretty: The ThrillCycle steel frame offers a smooth ride. A 9-speed drivetrain has enough gears for coasting in the city, but we wouldn’t suggest taking it to the mountains. Fenders protect you from mud, and a rear basket lets you transport groceries, flowers and books. The ThrillCycle comes with a limited lifetime warranty, so this little guy will last you long past graduation.                                                        |\n",
      "|                                  |    0.5  | bikes:009 | Peaknetic  | Secto                | If you struggle with stiff fingers or a kinked neck or back after a few minutes on the road, this lightweight, aluminum bike alleviates those issues and allows you to enjoy the ride. From the ergonomic grips to the lumbar-supporting seat position, the Roll Low-Entry offers incredible comfort. The rear-inclined seat tube facilitates stability by allowing you to put a foot on the ground to balance at a stop, and the low step-over frame makes it accessible for all ability and mobility levels. Th... |\n",
      "|                                  |    0.44 | bikes:008 | Peaknetic  | Soothe Electric bike | The Soothe is an everyday electric bike, from the makers of Exercycle  bikes, that conveys style while you get around the city. The Soothe lives up to its name by keeping your posture upright and relaxed for the ride ahead, keeping those aches and pains from riding at bay. It includes a low-step frame , our memory foam seat, bump-resistant shocks and conveniently placed thumb throttle.                                                                                                                 |\n",
      "| Commuter bike for people over 60 |    0.53 | bikes:007 | ScramBikes | WattBike             | The WattBike is the best e-bike for people who still feel young at heart. It has a  Bafang 500 watt geared hub motor that can reach 20 miles per hour on both steep inclines and city streets. The lithium-ion battery, which gets nearly 40 miles per charge, has a lightweight form factor, making it easier for seniors to use. It comes fully assembled (no convoluted instructions!) and includes a sturdy helmet at no cost. The Plush saddle softens over time with use. The included Seatpost, however, i... |\n",
      "|                                  |    0.51 | bikes:011 | BikeShind  | ThrillCycle          | An artsy,  retro-inspired bicycle that’s as functional as it is pretty: The ThrillCycle steel frame offers a smooth ride. A 9-speed drivetrain has enough gears for coasting in the city, but we wouldn’t suggest taking it to the mountains. Fenders protect you from mud, and a rear basket lets you transport groceries, flowers and books. The ThrillCycle comes with a limited lifetime warranty, so this little guy will last you long past graduation.                                                        |\n",
      "|                                  |    0.43 | bikes:004 | Eva        | Eva 291              | The sister company to Nord, Eva launched in 2005 as the first and only women-dedicated bicycle brand. Designed by women for women, allEva bikes are optimized for the feminine physique using analytics from a body metrics database. If you like 29ers, try the Eva 291. It’s a brand new bike for 2022.. This full-suspension, cross-country ride has been designed for velocity. The 291 has 100mm of front and rear travel, a superlight aluminum frame and fast-rolling 29-inch wheels. Yippee!                 |\n",
      "| Female specific mountain bike    |    0.65 | bikes:004 | Eva        | Eva 291              | The sister company to Nord, Eva launched in 2005 as the first and only women-dedicated bicycle brand. Designed by women for women, allEva bikes are optimized for the feminine physique using analytics from a body metrics database. If you like 29ers, try the Eva 291. It’s a brand new bike for 2022.. This full-suspension, cross-country ride has been designed for velocity. The 291 has 100mm of front and rear travel, a superlight aluminum frame and fast-rolling 29-inch wheels. Yippee!                 |\n",
      "|                                  |    0.55 | bikes:005 | Noka Bikes | Kahuna               | Whether you want to try your hand at XC racing or are looking for a lively trail bike that's just as inspiring on the climbs as it is over rougher ground, the Wilder is one heck of a bike built specifically for short women. Both the frames and components have been tweaked to include a women’s saddle, different bars and unique colourway.                                                                                                                                                                   |\n",
      "|                                  |    0.39 | bikes:010 | nHill      | Summit               | This budget mountain bike from nHill performs well both on bike paths and on the trail. The fork with 100mm of travel absorbs rough terrain. Fat Kenda Booster tires give you grip in corners and on wet trails. The Shimano Tourney drivetrain offered enough gears for finding a comfortable pace to ride uphill, and the Tektro hydraulic disc brakes break smoothly. Whether you want an affordable bike that you can take to work, but also take trail riding on the weekends or you’re just after a stable,... |\n",
      "| Good bike for college students   |    0.52 | bikes:007 | ScramBikes | WattBike             | The WattBike is the best e-bike for people who still feel young at heart. It has a  Bafang 500 watt geared hub motor that can reach 20 miles per hour on both steep inclines and city streets. The lithium-ion battery, which gets nearly 40 miles per charge, has a lightweight form factor, making it easier for seniors to use. It comes fully assembled (no convoluted instructions!) and includes a sturdy helmet at no cost. The Plush saddle softens over time with use. The included Seatpost, however, i... |\n",
      "|                                  |    0.51 | bikes:011 | BikeShind  | ThrillCycle          | An artsy,  retro-inspired bicycle that’s as functional as it is pretty: The ThrillCycle steel frame offers a smooth ride. A 9-speed drivetrain has enough gears for coasting in the city, but we wouldn’t suggest taking it to the mountains. Fenders protect you from mud, and a rear basket lets you transport groceries, flowers and books. The ThrillCycle comes with a limited lifetime warranty, so this little guy will last you long past graduation.                                                        |\n",
      "|                                  |    0.46 | bikes:009 | Peaknetic  | Secto                | If you struggle with stiff fingers or a kinked neck or back after a few minutes on the road, this lightweight, aluminum bike alleviates those issues and allows you to enjoy the ride. From the ergonomic grips to the lumbar-supporting seat position, the Roll Low-Entry offers incredible comfort. The rear-inclined seat tube facilitates stability by allowing you to put a foot on the ground to balance at a stop, and the low step-over frame makes it accessible for all ability and mobility levels. Th... |\n",
      "| Mountain bike for beginners      |    0.52 | bikes:010 | nHill      | Summit               | This budget mountain bike from nHill performs well both on bike paths and on the trail. The fork with 100mm of travel absorbs rough terrain. Fat Kenda Booster tires give you grip in corners and on wet trails. The Shimano Tourney drivetrain offered enough gears for finding a comfortable pace to ride uphill, and the Tektro hydraulic disc brakes break smoothly. Whether you want an affordable bike that you can take to work, but also take trail riding on the weekends or you’re just after a stable,... |\n",
      "|                                  |    0.52 | bikes:002 | Bicyk      | Hillcraft            | Kids want to ride with as little weight as possible. Especially on an incline! They may be at the age when a 27.5\" wheel bike is just too clumsy coming off a 24\" bike. The Hillcraft 26 is just the solution they need! Imagine 120mm travel. Boost front/rear.  You have NOTHING to tweak because it is easy to assemble right out of the box. The Hillcraft 26 is an efficient trail trekking machine. Up or down does not matter - dominate the trails going both down and up with this amazing bike. The nam... |\n",
      "|                                  |    0.5  | bikes:011 | BikeShind  | ThrillCycle          | An artsy,  retro-inspired bicycle that’s as functional as it is pretty: The ThrillCycle steel frame offers a smooth ride. A 9-speed drivetrain has enough gears for coasting in the city, but we wouldn’t suggest taking it to the mountains. Fenders protect you from mud, and a rear basket lets you transport groceries, flowers and books. The ThrillCycle comes with a limited lifetime warranty, so this little guy will last you long past graduation.                                                        |\n",
      "| Road bike for beginners          |    0.45 | bikes:009 | Peaknetic  | Secto                | If you struggle with stiff fingers or a kinked neck or back after a few minutes on the road, this lightweight, aluminum bike alleviates those issues and allows you to enjoy the ride. From the ergonomic grips to the lumbar-supporting seat position, the Roll Low-Entry offers incredible comfort. The rear-inclined seat tube facilitates stability by allowing you to put a foot on the ground to balance at a stop, and the low step-over frame makes it accessible for all ability and mobility levels. Th... |\n",
      "|                                  |    0.43 | bikes:002 | Bicyk      | Hillcraft            | Kids want to ride with as little weight as possible. Especially on an incline! They may be at the age when a 27.5\" wheel bike is just too clumsy coming off a 24\" bike. The Hillcraft 26 is just the solution they need! Imagine 120mm travel. Boost front/rear.  You have NOTHING to tweak because it is easy to assemble right out of the box. The Hillcraft 26 is an efficient trail trekking machine. Up or down does not matter - dominate the trails going both down and up with this amazing bike. The nam... |\n",
      "|                                  |    0.43 | bikes:006 | Breakout   | XBN 2.1 Alloy        | The XBN 2.1 Alloy is our entry-level road bike – but that’s not to say that it’s a basic machine. With an internal weld aluminium frame, a full carbon fork, and the slick-shifting Claris gears from Shimano’s, this is a bike which doesn’t break the bank and delivers craved performance. The 6061 alloy frame is triple-butted which ensures a lighter weight and smoother ride. And it’s comfortable with dropped seat stays and the carbon fork. The carefully crafted 50-34 tooth chainset and 11-32 toot... |\n",
      "| Vintage bike                     |    0.45 | bikes:007 | ScramBikes | WattBike             | The WattBike is the best e-bike for people who still feel young at heart. It has a  Bafang 500 watt geared hub motor that can reach 20 miles per hour on both steep inclines and city streets. The lithium-ion battery, which gets nearly 40 miles per charge, has a lightweight form factor, making it easier for seniors to use. It comes fully assembled (no convoluted instructions!) and includes a sturdy helmet at no cost. The Plush saddle softens over time with use. The included Seatpost, however, i... |\n",
      "|                                  |    0.44 | bikes:011 | BikeShind  | ThrillCycle          | An artsy,  retro-inspired bicycle that’s as functional as it is pretty: The ThrillCycle steel frame offers a smooth ride. A 9-speed drivetrain has enough gears for coasting in the city, but we wouldn’t suggest taking it to the mountains. Fenders protect you from mud, and a rear basket lets you transport groceries, flowers and books. The ThrillCycle comes with a limited lifetime warranty, so this little guy will last you long past graduation.                                                        |\n",
      "|                                  |    0.44 | bikes:004 | Eva        | Eva 291              | The sister company to Nord, Eva launched in 2005 as the first and only women-dedicated bicycle brand. Designed by women for women, allEva bikes are optimized for the feminine physique using analytics from a body metrics database. If you like 29ers, try the Eva 291. It’s a brand new bike for 2022.. This full-suspension, cross-country ride has been designed for velocity. The 291 has 100mm of front and rear travel, a superlight aluminum frame and fast-rolling 29-inch wheels. Yippee!                 |\n"
     ]
    }
   ],
   "source": [
    "query = (\n",
    "    Query(\"(*)=>[KNN 3 @vector $query_vector AS vector_score]\")\n",
    "    .sort_by(\"vector_score\")\n",
    "    .return_fields(\"vector_score\", \"id\", \"brand\", \"model\", \"description\")\n",
    "    .dialect(2)\n",
    ")\n",
    "\n",
    "table = create_query_table(query, queries, encoded_queries)\n",
    "print(table)"
   ]
  },
  {
   "cell_type": "code",
   "execution_count": null,
   "id": "eb432c56",
   "metadata": {},
   "outputs": [],
   "source": []
  }
 ],
 "metadata": {
  "kernelspec": {
   "display_name": "redis",
   "language": "python",
   "name": "python3"
  },
  "language_info": {
   "codemirror_mode": {
    "name": "ipython",
    "version": 3
   },
   "file_extension": ".py",
   "mimetype": "text/x-python",
   "name": "python",
   "nbconvert_exporter": "python",
   "pygments_lexer": "ipython3",
   "version": "3.13.5"
  }
 },
 "nbformat": 4,
 "nbformat_minor": 5
}
